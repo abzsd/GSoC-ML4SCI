{
  "nbformat": 4,
  "nbformat_minor": 0,
  "metadata": {
    "colab": {
      "provenance": []
    },
    "kernelspec": {
      "name": "python3",
      "display_name": "Python 3"
    },
    "language_info": {
      "name": "python"
    },
    "accelerator": "GPU"
  },
  "cells": [
    {
      "cell_type": "code",
      "execution_count": 2,
      "metadata": {
        "id": "SeUPK-jH_JrD"
      },
      "outputs": [],
      "source": [
        "!pip install tensorflow=2.7.0\n",
        "from IPython.display import clear_output\n",
        "clear_output()"
      ]
    },
    {
      "cell_type": "code",
      "source": [
        "import numpy as np \n",
        "import sympy as sp\n",
        "import pandas as pd\n",
        "import tensorflow as tf\n",
        "from h5py import File as HDF5File\n",
        "from PIL import Image\n",
        "import matplotlib.cm as cm\n",
        "from matplotlib.colors import LogNorm, Normalize\n",
        "%matplotlib inline\n",
        "import matplotlib.pyplot as plt\n",
        "import glob\n",
        "import imageio\n",
        "from IPython import display\n",
        "\n",
        "from keras.applications.inception_v3 import InceptionV3, preprocess_input\n",
        "from skimage.transform import resize\n",
        "from numpy import asarray\n",
        "from numpy import cov\n",
        "from numpy import trace\n",
        "from numpy import iscomplexobj\n",
        "from scipy.linalg import sqrtm"
      ],
      "metadata": {
        "id": "1oSTU0XSADAb"
      },
      "execution_count": 3,
      "outputs": []
    },
    {
      "cell_type": "code",
      "source": [
        "if 'google.colab' in str(get_ipython()):\n",
        "  !wget https://zenodo.org/record/269622/files/jet-images_Mass60-100_pT250-300_R1.25_Pix25.hdf5"
      ],
      "metadata": {
        "colab": {
          "base_uri": "https://localhost:8080/"
        },
        "id": "sbKaFKlYAe3k",
        "outputId": "3a30b33a-4ce1-43a3-832e-2b23b26574fb"
      },
      "execution_count": 4,
      "outputs": [
        {
          "output_type": "stream",
          "name": "stdout",
          "text": [
            "--2022-10-10 14:00:59--  https://zenodo.org/record/269622/files/jet-images_Mass60-100_pT250-300_R1.25_Pix25.hdf5\n",
            "Resolving zenodo.org (zenodo.org)... 188.184.117.155\n",
            "Connecting to zenodo.org (zenodo.org)|188.184.117.155|:443... connected.\n",
            "HTTP request sent, awaiting response... 200 OK\n",
            "Length: 2220068544 (2.1G) [application/octet-stream]\n",
            "Saving to: ‘jet-images_Mass60-100_pT250-300_R1.25_Pix25.hdf5’\n",
            "\n",
            "jet-images_Mass60-1 100%[===================>]   2.07G  14.7MB/s    in 2m 52s  \n",
            "\n",
            "2022-10-10 14:03:54 (12.3 MB/s) - ‘jet-images_Mass60-100_pT250-300_R1.25_Pix25.hdf5’ saved [2220068544/2220068544]\n",
            "\n"
          ]
        }
      ]
    },
    {
      "cell_type": "code",
      "source": [
        "jet_mass_datafile = '/content/jet-images_Mass60-100_pT250-300_R1.25_Pix25.hdf5'\n",
        "jet_mass_data = HDF5File(jet_mass_datafile, 'r')"
      ],
      "metadata": {
        "id": "GTlPkiV0A41g"
      },
      "execution_count": 5,
      "outputs": []
    },
    {
      "cell_type": "code",
      "source": [
        "print(jet_mass_data.keys())"
      ],
      "metadata": {
        "colab": {
          "base_uri": "https://localhost:8080/"
        },
        "id": "f6acZV7kAzTF",
        "outputId": "3bab7a00-4e02-474f-a953-63b19a3f08b6"
      },
      "execution_count": 6,
      "outputs": [
        {
          "output_type": "stream",
          "name": "stdout",
          "text": [
            "<KeysViewHDF5 ['image', 'jet_delta_R', 'jet_eta', 'jet_mass', 'jet_phi', 'jet_pt', 'signal', 'tau_1', 'tau_2', 'tau_21', 'tau_3', 'tau_32']>\n"
          ]
        }
      ]
    },
    {
      "cell_type": "code",
      "source": [
        "X_jet = jet_mass_data['image']\n",
        "print(X_jet.shape)\n",
        "plt.imshow(X_jet[5,:,:])"
      ],
      "metadata": {
        "colab": {
          "base_uri": "https://localhost:8080/",
          "height": 300
        },
        "id": "EAnyXYh_D3cY",
        "outputId": "116fe7e0-5cbb-4044-906b-e562ae952044"
      },
      "execution_count": 7,
      "outputs": [
        {
          "output_type": "stream",
          "name": "stdout",
          "text": [
            "(872666, 25, 25)\n"
          ]
        },
        {
          "output_type": "execute_result",
          "data": {
            "text/plain": [
              "<matplotlib.image.AxesImage at 0x7f296017a9d0>"
            ]
          },
          "metadata": {},
          "execution_count": 7
        },
        {
          "output_type": "display_data",
          "data": {
            "text/plain": [
              "<Figure size 432x288 with 1 Axes>"
            ],
            "image/png": "[encoded data removed]"
          },
          "metadata": {
            "needs_background": "light"
          }
        }
      ]
    },
    {
      "cell_type": "code",
      "source": [
        "X_jet = X_jet[:100000,:,:]\n",
        "print(X_jet.shape)"
      ],
      "metadata": {
        "colab": {
          "base_uri": "https://localhost:8080/"
        },
        "id": "qRi6mlyjD8nY",
        "outputId": "43703baf-19c7-417c-d15e-c1846b686c2c"
      },
      "execution_count": 8,
      "outputs": [
        {
          "output_type": "stream",
          "name": "stdout",
          "text": [
            "(100000, 25, 25)\n"
          ]
        }
      ]
    },
    {
      "cell_type": "code",
      "source": [
        "max_val_pix = np.argmax(np.mean(X_jet[:, :, :], axis=0))\n",
        "print(\"Maximum pixel value for Jet mass images:\",max_val_pix)\n",
        "center = [int(max_val_pix/25), max_val_pix%25]\n",
        "\n",
        "img_size = 8\n",
        "#centering and normalizing\n",
        "X_jet = X_jet[:, (center[0]-int(img_size/2)):(center[0]+int(img_size/2)), (center[1]-int(img_size/2)):(center[1]+int(img_size/2))]\n",
        "\n",
        "print(X_jet.shape)\n",
        "plt.imshow(X_jet[0,:,:])"
      ],
      "metadata": {
        "colab": {
          "base_uri": "https://localhost:8080/",
          "height": 317
        },
        "id": "nYagYeqCD-N1",
        "outputId": "ad48f267-71de-48d0-bc61-b740c4a188c6"
      },
      "execution_count": 9,
      "outputs": [
        {
          "output_type": "stream",
          "name": "stdout",
          "text": [
            "Maximum pixel value for Jet mass images: 312\n",
            "(100000, 8, 8)\n"
          ]
        },
        {
          "output_type": "execute_result",
          "data": {
            "text/plain": [
              "<matplotlib.image.AxesImage at 0x7f295fc5cdd0>"
            ]
          },
          "metadata": {},
          "execution_count": 9
        },
        {
          "output_type": "display_data",
          "data": {
            "text/plain": [
              "<Figure size 432x288 with 1 Axes>"
            ],
            "image/png": "[encoded data removed]"
          },
          "metadata": {
            "needs_background": "light"
          }
        }
      ]
    },
    {
      "cell_type": "code",
      "source": [
        "def create_generator():\n",
        "    model = tf.keras.Sequential()\n",
        "    model.add(tf.keras.layers.Dense(24,input_dim=100))\n",
        "    model.add(tf.keras.layers.LeakyReLU())\n",
        "    \n",
        "    model.add(tf.keras.layers.Dense(48))\n",
        "    model.add(tf.keras.layers.LeakyReLU())\n",
        "    \n",
        "    model.add(tf.keras.layers.Dense(64))\n",
        "    model.add(tf.keras.layers.Activation('relu'))\n",
        "    model.add(tf.keras.layers.Reshape((8,8,1)))\n",
        "    return model"
      ],
      "metadata": {
        "id": "XyyFyoGbEfu8"
      },
      "execution_count": 10,
      "outputs": []
    },
    {
      "cell_type": "code",
      "source": [
        "def create_discriminator():\n",
        "    inputs = tf.keras.Input(shape=(8,8,1))\n",
        "    x = tf.keras.layers.Flatten()(inputs)\n",
        "    x = tf.keras.layers.Dense(70)(x)\n",
        "    x = tf.keras.layers.LeakyReLU()(x)\n",
        "    x = tf.keras.layers.Dropout(0.4)(x)\n",
        "    \n",
        "    x = tf.keras.layers.Dense(30)(x)\n",
        "    x = tf.keras.layers.LeakyReLU()(x)\n",
        "    x = tf.keras.layers.Dropout(0.4)(x)\n",
        "    \n",
        "    x = tf.keras.layers.Dense(10)(x)\n",
        "    x = tf.keras.layers.LeakyReLU()(x)\n",
        "    x = tf.keras.layers.Dropout(0.4)(x)\n",
        "    \n",
        "    out = tf.keras.layers.Dense(1,activation='tanh')(x)\n",
        "    return tf.keras.Model(inputs=[inputs],outputs=[out])"
      ],
      "metadata": {
        "id": "lzByKrCSEHCU"
      },
      "execution_count": 11,
      "outputs": []
    },
    {
      "cell_type": "code",
      "source": [
        "generator_model = create_generator()\n",
        "discriminator_model = create_discriminator()\n",
        "generator_model.summary()\n",
        "discriminator_model.summary()"
      ],
      "metadata": {
        "colab": {
          "base_uri": "https://localhost:8080/"
        },
        "id": "cwW_SivPEdlC",
        "outputId": "ed1106ca-9154-4323-b3f7-e663897a8605"
      },
      "execution_count": 12,
      "outputs": [
        {
          "output_type": "stream",
          "name": "stdout",
          "text": [
            "Model: \"sequential\"\n",
            "_________________________________________________________________\n",
            " Layer (type)                Output Shape              Param #   \n",
            "=================================================================\n",
            " dense (Dense)               (None, 24)                2424      \n",
            "                                                                 \n",
            " leaky_re_lu (LeakyReLU)     (None, 24)                0         \n",
            "                                                                 \n",
            " dense_1 (Dense)             (None, 48)                1200      \n",
            "                                                                 \n",
            " leaky_re_lu_1 (LeakyReLU)   (None, 48)                0         \n",
            "                                                                 \n",
            " dense_2 (Dense)             (None, 64)                3136      \n",
            "                                                                 \n",
            " activation (Activation)     (None, 64)                0         \n",
            "                                                                 \n",
            " reshape (Reshape)           (None, 8, 8, 1)           0         \n",
            "                                                                 \n",
            "=================================================================\n",
            "Total params: 6,760\n",
            "Trainable params: 6,760\n",
            "Non-trainable params: 0\n",
            "_________________________________________________________________\n",
            "Model: \"model\"\n",
            "_________________________________________________________________\n",
            " Layer (type)                Output Shape              Param #   \n",
            "=================================================================\n",
            " input_1 (InputLayer)        [(None, 8, 8, 1)]         0         \n",
            "                                                                 \n",
            " flatten (Flatten)           (None, 64)                0         \n",
            "                                                                 \n",
            " dense_3 (Dense)             (None, 70)                4550      \n",
            "                                                                 \n",
            " leaky_re_lu_2 (LeakyReLU)   (None, 70)                0         \n",
            "                                                                 \n",
            " dropout (Dropout)           (None, 70)                0         \n",
            "                                                                 \n",
            " dense_4 (Dense)             (None, 30)                2130      \n",
            "                                                                 \n",
            " leaky_re_lu_3 (LeakyReLU)   (None, 30)                0         \n",
            "                                                                 \n",
            " dropout_1 (Dropout)         (None, 30)                0         \n",
            "                                                                 \n",
            " dense_5 (Dense)             (None, 10)                310       \n",
            "                                                                 \n",
            " leaky_re_lu_4 (LeakyReLU)   (None, 10)                0         \n",
            "                                                                 \n",
            " dropout_2 (Dropout)         (None, 10)                0         \n",
            "                                                                 \n",
            " dense_6 (Dense)             (None, 1)                 11        \n",
            "                                                                 \n",
            "=================================================================\n",
            "Total params: 7,001\n",
            "Trainable params: 7,001\n",
            "Non-trainable params: 0\n",
            "_________________________________________________________________\n"
          ]
        }
      ]
    },
    {
      "cell_type": "code",
      "source": [
        "def generate_and_save_images(model, epoch, batch_size):\n",
        "  # Notice `training` is set to False.\n",
        "  # This is so all layers run in inference mode (batchnorm).\n",
        "  z_batch_shape = (batch_size,) + model.input_shape[1:]\n",
        "  z = tf.random.normal(z_batch_shape) \n",
        "  predictions = model(z, training=False)\n",
        "\n",
        "  fig = plt.figure(figsize=(4, 4))\n",
        "\n",
        "  for i in range(4):\n",
        "      plt.subplot(2, 2, i+1)\n",
        "      plt.imshow(predictions[i, :, :, 0])\n",
        "      plt.axis('off')\n",
        "\n",
        "  plt.savefig('image_at_epoch_{:04d}.png'.format(epoch))\n",
        "  plt.show()"
      ],
      "metadata": {
        "id": "_bDG8oFbEjk8"
      },
      "execution_count": 17,
      "outputs": []
    },
    {
      "cell_type": "code",
      "source": [
        "fake_data_shape = (10000,) + generator_model.input_shape[1:]\n",
        "print(fake_data_shape)\n",
        "print(generator_model.output_shape)\n",
        "print(discriminator_model.input_shape)"
      ],
      "metadata": {
        "colab": {
          "base_uri": "https://localhost:8080/"
        },
        "id": "L8DdvvoUPPs2",
        "outputId": "e4bb3dc3-39b9-469c-9a0b-99ce59d36450"
      },
      "execution_count": 18,
      "outputs": [
        {
          "output_type": "stream",
          "name": "stdout",
          "text": [
            "(10000, 100)\n",
            "(None, 8, 8, 1)\n",
            "(None, 8, 8, 1)\n"
          ]
        }
      ]
    },
    {
      "cell_type": "code",
      "source": [
        "def plot_jet_image(content,\n",
        "#                     output_name,\n",
        "                    vmin=1e-6,\n",
        "                    vmax=300,\n",
        "                    title=''):\n",
        "    '''\n",
        "    Function to help you visualize a jet image on a log scale\n",
        "    Args:\n",
        "    -----\n",
        "       content : numpy array of dimensions 25x25, first arg to imshow, content of the image\n",
        "                 e.g.: generated_images.mean(axis=0) --> the average generated image\n",
        "                       real_images.mean(axis=0) --> the average Pythia image\n",
        "                       generated_images[aux_out == 1].mean(axis=0) --> the average generated image labeled as real by the discriminator \n",
        "                       etc...\n",
        "       output_name : string, name of the output file where the plot will be saved. Note: it will be located in ../plots/\n",
        "       vmin : (default = 1e-6) float, lower bound of the pixel intensity scale before saturation\n",
        "       vmax : (default = 300) float, upper bound of the pixel intensity scale before saturation\n",
        "       title : (default = '') string, title of the plot, to be displayed on top of the image\n",
        "    Outputs:\n",
        "    --------\n",
        "       no function returns\n",
        "       saves file in ../plots/output_name\n",
        "    '''\n",
        "    fig, ax = plt.subplots(figsize=(3, 2))\n",
        "    extent=[-1.25, 1.25, -1.25, 1.25]\n",
        "    im = ax.imshow(content, interpolation='nearest', norm=LogNorm(vmin=vmin, vmax=vmax), extent=extent)\n",
        "    cbar = plt.colorbar(im, fraction=0.05, pad=0.05)\n",
        "    cbar.set_label(r'Pixel $p_T$ (GeV)', y=0.85)\n",
        "    plt.xlabel(r'[Transformed] Pseudorapidity $(\\eta)$')\n",
        "    plt.ylabel(r'[Transformed] Azimuthal Angle $(\\phi)$')\n",
        "    plt.title(title)"
      ],
      "metadata": {
        "id": "X-e0qSybPSER"
      },
      "execution_count": 19,
      "outputs": []
    },
    {
      "cell_type": "code",
      "source": [
        "class QGAN():\n",
        "  def __init__(self,discriminator,generator,disc_optimizer,gen_optimizer):\n",
        "    self.generator_model = generator\n",
        "    self.discriminator_model = discriminator\n",
        "    self.d_opt = disc_optimizer\n",
        "    self.g_opt = gen_optimizer\n",
        "    # self.g_lr = gen_learning_rate\n",
        "    # self.d_lr = disc_learning_rate\n",
        "    self.loss = tf.keras.losses.BinaryCrossentropy(from_logits=True)\n",
        "    self.gen_loss_ = []\n",
        "    self.disc_loss_ = []\n",
        "    self.epochs_ = []\n",
        "    # self.d_opt = self.d_opt(self.d_lr)\n",
        "    # self.g_opt = self.g_opt(self.g_lr)\n",
        "\n",
        "  def prepare_dataset(self,data,batch_size,seed=None,drop_remainder=True,buffer_size=100):\n",
        "    buffer_size =len(data[0])\n",
        "    ds = tf.data.Dataset.from_tensor_slices(data)\n",
        "    ds = ds.shuffle(buffer_size=buffer_size,seed=seed,reshuffle_each_iteration=True)\n",
        "    ds = ds.batch(batch_size,drop_remainder)\n",
        "    ds = ds.prefetch(tf.data.AUTOTUNE)\n",
        "    return ds\n",
        "\n",
        "  def train_preprocess(self,random_state):\n",
        "    tf.random.set_seed(random_state)\n",
        "    np.random.seed(random_state)\n",
        "  \n",
        "  @tf.function\n",
        "  def generator_loss(self,fake_output):\n",
        "    # return self.loss(tf.ones_like(fake_output),fake_output)\n",
        "    return -self.loss(tf.zeros_like(fake_output),fake_output)\n",
        "\n",
        "  @tf.function\n",
        "  def discriminator_loss(self,real_output,fake_output):\n",
        "    real_loss = self.loss(tf.ones_like(real_output),real_output)\n",
        "    fake_loss = self.loss(tf.zeros_like(fake_output),fake_output)\n",
        "    return real_loss + fake_loss\n",
        "  \n",
        "  @tf.function\n",
        "  def train_step_1v1(self,x_real,batch_size):\n",
        "    \"\"\"Training step for one epoch with 1 generator step and 1 discriminator step\n",
        "        \"\"\"\n",
        "    fake_data_shape = (batch_size,) + self.generator_model.input_shape[1:]\n",
        "    z = tf.random.normal(shape=fake_data_shape)\n",
        "    with tf.GradientTape() as gen_tape, tf.GradientTape() as disc_tape:\n",
        "      x_fake_ = self.generator_model(z, training=True)\n",
        "      real_output = self.discriminator_model(x_real, training=True)\n",
        "      fake_output = self.discriminator_model(x_fake_, training=True)\n",
        "      gen_loss = self.generator_loss(fake_output)\n",
        "      disc_loss = self.discriminator_loss(real_output, fake_output)\n",
        "    grad_gen = gen_tape.gradient(gen_loss, self.generator_model.trainable_variables)\n",
        "    grad_disc = disc_tape.gradient(disc_loss, self.discriminator_model.trainable_variables)\n",
        "    self.g_opt.apply_gradients(zip(grad_gen, self.generator_model.trainable_variables))\n",
        "    self.d_opt.apply_gradients(zip(grad_disc, self.discriminator_model.trainable_variables))  \n",
        "    return gen_loss, disc_loss\n",
        "\n",
        "  @tf.function\n",
        "  def train_step_nv1(self,x_real,n_disc,batch_size):\n",
        "    for i in range(n_disc):\n",
        "      x_real_batch = tf.gather(x_real,i)\n",
        "      d_loss = self.discriminator_step(x_real_batch,batch_size)\n",
        "    g_loss = self.generator_step(batch_size)\n",
        "    return g_loss, d_loss\n",
        "\n",
        "  @tf.function\n",
        "  def train_step_1vn(self,x_real,n_gen,batch_size):\n",
        "    for i in range(n_gen):\n",
        "      g_loss = self.generator_step(batch_size)\n",
        "    d_loss = self.discriminator_step(x_real,batch_size)\n",
        "    return g_loss, d_loss \n",
        "\n",
        "  @tf.function\n",
        "  def discriminator_step(self,x_real,batch_size):\n",
        "    fake_data_shape = (batch_size,) + self.generator_model.input_shape[1:]\n",
        "    z = tf.random.normal(shape=fake_data_shape)\n",
        "    with tf.GradientTape() as gradient_tape:\n",
        "      real_output = self.discriminator_model(x_real,training = True)\n",
        "      fake_input = self.generator_model(z, training = True) \n",
        "      fake_output = self.discriminator_model(fake_input,training = True)\n",
        "      cost = self.discriminator_loss(real_output,fake_output)\n",
        "    grad = gradient_tape.gradient(cost,self.discriminator_model.trainable_variables)\n",
        "    self.d_opt.apply_gradients(zip(grad,self.discriminator_model.trainable_variables))\n",
        "    return cost\n",
        "\n",
        "  @tf.function\n",
        "  def generator_step(self,batch_size):\n",
        "    fake_data_shape = (batch_size,) + self.generator_model.input_shape[1:]\n",
        "    z = tf.random.normal(shape=fake_data_shape)\n",
        "    with tf.GradientTape() as gradient_tape:\n",
        "      fake_input = self.generator_model(z,training=True)\n",
        "      fake_output = self.discriminator_model(fake_input,training= True) #\n",
        "      loss = self.generator_loss(fake_output)\n",
        "    grad = gradient_tape.gradient(loss,self.generator_model.trainable_variables)\n",
        "    self.g_opt.apply_gradients(zip(grad,self.generator_model.trainable_variables))\n",
        "    return loss\n",
        "  \n",
        "  def train_qgans(self,x,epochs,batch_size,seed=1024,n_disc=1,n_gen=1):\n",
        "    input_shape = x.shape[1:]\n",
        "    self.train_preprocess(seed)\n",
        "    data = self.prepare_dataset(data=x,batch_size=batch_size*n_disc,seed=seed)\n",
        "    g_metric = tf.keras.metrics.Mean()\n",
        "    d_metric = tf.keras.metrics.Mean()\n",
        "    for epoch in range(epochs):\n",
        "      for step,training_batch_data_ in enumerate(data):\n",
        "        if( n_disc == 1 and n_gen == 1):\n",
        "          input_batch_shape = (batch_size,) + input_shape\n",
        "          training_batch_data = tf.reshape(training_batch_data_,input_batch_shape)\n",
        "          gen_loss,disc_loss = self.train_step_1v1(x_real=training_batch_data, batch_size=batch_size)\n",
        "          display.clear_output(wait=True)\n",
        "          generate_and_save_images(self.generator_model,epoch + 1,batch_size)\n",
        "        if n_disc > 1 and n_gen == 1:\n",
        "          input_batch_shape = (n_disc, batch_size) + input_shape\n",
        "          training_batch_data = tf.reshape(training_batch_data_,input_batch_shape)        \n",
        "          gen_loss,disc_loss = self.train_step_nv1(x_real=training_batch_data, batch_size=batch_size,n_disc=n_disc)\n",
        "          display.clear_output(wait=True)\n",
        "          generate_and_save_images(self.generator_model,epoch + 1,batch_size)\n",
        "        if n_gen > 1 and n_disc == 1:\n",
        "          input_batch_shape = (batch_size,) + input_shape\n",
        "          training_batch_data = tf.reshape(training_batch_data_,input_batch_shape)\n",
        "          gen_loss,disc_loss = self.train_step_1vn(x_real=training_batch_data, batch_size=batch_size,n_gen=n_gen)\n",
        "          display.clear_output(wait=True)\n",
        "          generate_and_save_images(self.generator_model,epoch + 1,batch_size)\n",
        "        g_metric(gen_loss)\n",
        "        d_metric(disc_loss)\n",
        "      self.gen_loss_.append(g_metric.result().numpy())\n",
        "      self.disc_loss_.append(d_metric.result().numpy())\n",
        "      self.epochs_.append(epoch)\n",
        "      print(\"Epoch:{} ;   generator_loss:{} ;   discriminator_loss:{}\".format(epoch,g_metric.result().numpy(),d_metric.result().numpy()))\n",
        "  \n",
        "      g_metric.reset_state()\n",
        "      d_metric.reset_state()\n",
        "      display.clear_output(wait=True)\n",
        "    return self.gen_loss_,self.disc_loss_,self.epochs_\n",
        "\n",
        "  def generate_samples(self,batch_size, shape=None):\n",
        "    \"\"\"Generates sample using random inputs\n",
        "        \n",
        "            Arguments:\n",
        "                batch_size: int\n",
        "                    Number of samples to generate.\n",
        "                shape: (Optional) tuple of int\n",
        "                    Reshape the output to the given shape.\n",
        "        \"\"\"\n",
        "    z_batch_shape = (batch_size,) + self.generator_model.input_shape[1:]\n",
        "    z = tf.random.normal(z_batch_shape)\n",
        "    print(z.shape[0])\n",
        "    samples = self.generator_model(z,training = False)\n",
        "    return samples\n",
        "\n",
        "  def predict(self, x):\n",
        "    return self.discriminator_model(x, training=False)"
      ],
      "metadata": {
        "id": "sjbJfcdfKzWO"
      },
      "execution_count": 14,
      "outputs": []
    },
    {
      "cell_type": "code",
      "source": [
        "d_optimizer = tf.keras.optimizers.Adam(learning_rate=0.00001)\n",
        "g_optimizer = tf.keras.optimizers.Adam(learning_rate=0.00005)\n",
        "model = QGAN(generator=generator_model,discriminator=discriminator_model,disc_optimizer=d_optimizer,gen_optimizer=g_optimizer)"
      ],
      "metadata": {
        "id": "S3K2eKQ_K8ac"
      },
      "execution_count": 34,
      "outputs": []
    },
    {
      "cell_type": "code",
      "source": [
        "X_jet_final = np.reshape(X_jet, (X_jet.shape[0], 8, 8, 1))\n",
        "gen_loss_,disc_loss_,epochs_ = model.train_qgans(X_jet_final,epochs=1000,batch_size=20000,seed=2021,n_gen=10)"
      ],
      "metadata": {
        "colab": {
          "base_uri": "https://localhost:8080/",
          "height": 265
        },
        "id": "VAqHGAFiLBf5",
        "outputId": "78eb4d74-d575-4683-8d07-abe9c676fb0d"
      },
      "execution_count": 35,
      "outputs": [
        {
          "output_type": "display_data",
          "data": {
            "text/plain": [
              "<Figure size 288x288 with 4 Axes>"
            ],
            "image/png": "[encoded data removed]"
          },
          "metadata": {
            "needs_background": "light"
          }
        },
        {
          "output_type": "stream",
          "name": "stdout",
          "text": [
            "Epoch:999 ;   generator_loss:-1.0896188020706177 ;   discriminator_loss:1.530729055404663\n"
          ]
        }
      ]
    },
    {
      "cell_type": "code",
      "source": [
        "model.generator_model.save('ClassicalGAN_GEN_v3_JetMass.h5')"
      ],
      "metadata": {
        "colab": {
          "base_uri": "https://localhost:8080/"
        },
        "id": "BaVI-OdaL1yx",
        "outputId": "cd73c99c-c05e-4d9e-939b-0fbd762d3ed0"
      },
      "execution_count": 36,
      "outputs": [
        {
          "output_type": "stream",
          "name": "stderr",
          "text": [
            "WARNING:tensorflow:Compiled the loaded model, but the compiled metrics have yet to be built. `model.compile_metrics` will be empty until you train or evaluate the model.\n"
          ]
        }
      ]
    },
    {
      "cell_type": "code",
      "source": [
        "model.discriminator_model.save('ClassicalGAN_DISC_v3_JetMass.h5')"
      ],
      "metadata": {
        "colab": {
          "base_uri": "https://localhost:8080/"
        },
        "id": "yatMfo2SUHrh",
        "outputId": "f722f965-b801-4782-9d24-932fde9377e7"
      },
      "execution_count": 37,
      "outputs": [
        {
          "output_type": "stream",
          "name": "stderr",
          "text": [
            "WARNING:tensorflow:Compiled the loaded model, but the compiled metrics have yet to be built. `model.compile_metrics` will be empty until you train or evaluate the model.\n"
          ]
        }
      ]
    },
    {
      "cell_type": "code",
      "source": [
        "model.generator_model.save_weights('ClassicalGAN_GEN_wt_v3_JetMass.h5')"
      ],
      "metadata": {
        "id": "MZ53CyWAUN0v"
      },
      "execution_count": 38,
      "outputs": []
    },
    {
      "cell_type": "code",
      "source": [
        "model.discriminator_model.save_weights('ClassicalGAN_DISC_wt_v3_JetMass.h5')"
      ],
      "metadata": {
        "id": "LHdp-0r1UR6G"
      },
      "execution_count": 39,
      "outputs": []
    },
    {
      "cell_type": "code",
      "source": [
        "from tensorflow.keras.models import load_model\n",
        "\n",
        "savedModel=load_model('ClassicalGAN_DISC_v3_JetMass.h5')\n",
        "savedModel.summary()\n",
        "savedModel = model.discriminator_model.load_weights('ClassicalGAN_DISC_wt_v3_JetMass.h5')\n",
        "print('Model Loaded!')"
      ],
      "metadata": {
        "colab": {
          "base_uri": "https://localhost:8080/"
        },
        "id": "8GxdKadWUVr2",
        "outputId": "9ba3724a-f430-4b34-a3e6-9e742a7f8274"
      },
      "execution_count": 27,
      "outputs": [
        {
          "output_type": "stream",
          "name": "stderr",
          "text": [
            "WARNING:tensorflow:No training configuration found in the save file, so the model was *not* compiled. Compile it manually.\n"
          ]
        },
        {
          "output_type": "stream",
          "name": "stdout",
          "text": [
            "Model: \"model\"\n",
            "_________________________________________________________________\n",
            " Layer (type)                Output Shape              Param #   \n",
            "=================================================================\n",
            " input_1 (InputLayer)        [(None, 8, 8, 1)]         0         \n",
            "                                                                 \n",
            " flatten (Flatten)           (None, 64)                0         \n",
            "                                                                 \n",
            " dense_3 (Dense)             (None, 70)                4550      \n",
            "                                                                 \n",
            " leaky_re_lu_2 (LeakyReLU)   (None, 70)                0         \n",
            "                                                                 \n",
            " dropout (Dropout)           (None, 70)                0         \n",
            "                                                                 \n",
            " dense_4 (Dense)             (None, 30)                2130      \n",
            "                                                                 \n",
            " leaky_re_lu_3 (LeakyReLU)   (None, 30)                0         \n",
            "                                                                 \n",
            " dropout_1 (Dropout)         (None, 30)                0         \n",
            "                                                                 \n",
            " dense_5 (Dense)             (None, 10)                310       \n",
            "                                                                 \n",
            " leaky_re_lu_4 (LeakyReLU)   (None, 10)                0         \n",
            "                                                                 \n",
            " dropout_2 (Dropout)         (None, 10)                0         \n",
            "                                                                 \n",
            " dense_6 (Dense)             (None, 1)                 11        \n",
            "                                                                 \n",
            "=================================================================\n",
            "Total params: 7,001\n",
            "Trainable params: 7,001\n",
            "Non-trainable params: 0\n",
            "_________________________________________________________________\n",
            "Model Loaded!\n"
          ]
        }
      ]
    },
    {
      "cell_type": "code",
      "source": [
        "import matplotlib.pyplot as plt\n",
        "import matplotlib.gridspec as gridspec\n",
        "\n",
        "def plot_loss(gen_loss,disc_loss,epochs):\n",
        "  fig = plt.figure(figsize=(16,9))\n",
        "  gs = gridspec.GridSpec(ncols=8, nrows=8, figure=fig)\n",
        "  epoch = epochs[-1]\n",
        "  # plot loss curve\n",
        "  ax_loss = plt.subplot(gs[:,:4])\n",
        "  ax_loss.set_xlim(0, 1.1*epoch)\n",
        "  ax_loss.plot(epochs, gen_loss, label=\"Generator\")\n",
        "  ax_loss.plot(epochs, disc_loss, label=\"Discriminator\")\n",
        "  ax_loss.set_xlabel('Epoch', fontsize=20)\n",
        "  ax_loss.set_ylabel('Loss', fontsize=20)\n",
        "  ax_loss.grid(True)\n",
        "  ax_loss.legend(fontsize=15)"
      ],
      "metadata": {
        "id": "5Ei2S64BUd03"
      },
      "execution_count": 40,
      "outputs": []
    },
    {
      "cell_type": "code",
      "source": [
        "plot_loss(gen_loss_,disc_loss_,epochs_)"
      ],
      "metadata": {
        "colab": {
          "base_uri": "https://localhost:8080/",
          "height": 560
        },
        "id": "dl3SeQflUmkS",
        "outputId": "14357103-97d3-4e1e-ce0d-012064a505fe"
      },
      "execution_count": 41,
      "outputs": [
        {
          "output_type": "display_data",
          "data": {
            "text/plain": [
              "<Figure size 1152x648 with 1 Axes>"
            ],
            "image/png": "[encoded data removed]"
          },
          "metadata": {
            "needs_background": "light"
          }
        }
      ]
    },
    {
      "cell_type": "markdown",
      "source": [
        "so more number of epochs may yield good results!!"
      ],
      "metadata": {
        "id": "oTzAB4FTU1yK"
      }
    },
    {
      "cell_type": "code",
      "source": [
        "n_images = 8\n",
        "samples = np.reshape(np.array(model.generate_samples(batch_size=n_images,shape=(5,))),(n_images,8,8))\n",
        "fig = plt.figure(figsize=(26,18))\n",
        "gs = gridspec.GridSpec(ncols=8, nrows=8, figure=fig)\n",
        "for i in range(samples.shape[0]):\n",
        "  ax = plt.subplot(gs[i//4, 4 + i%4])\n",
        "  plt.imshow(samples[i])"
      ],
      "metadata": {
        "colab": {
          "base_uri": "https://localhost:8080/",
          "height": 294
        },
        "id": "hf7ZK9F9UoIl",
        "outputId": "44803898-b1cc-422d-e520-2fae994756d9"
      },
      "execution_count": 42,
      "outputs": [
        {
          "output_type": "stream",
          "name": "stdout",
          "text": [
            "8\n"
          ]
        },
        {
          "output_type": "display_data",
          "data": {
            "text/plain": [
              "<Figure size 1872x1296 with 8 Axes>"
            ],
            "image/png": "[encoded data removed]"
          },
          "metadata": {
            "needs_background": "light"
          }
        }
      ]
    },
    {
      "cell_type": "code",
      "source": [
        "def display_image(epoch_no):\n",
        "  return Image.open('image_at_epoch_{:04d}.png'.format(epoch_no))"
      ],
      "metadata": {
        "id": "ndb_3X57U1H1"
      },
      "execution_count": 43,
      "outputs": []
    },
    {
      "cell_type": "code",
      "source": [
        "display_image(100)"
      ],
      "metadata": {
        "colab": {
          "base_uri": "https://localhost:8080/",
          "height": 305
        },
        "id": "lcrHhgkKVGMn",
        "outputId": "19a44493-0ca7-4d43-ae5f-e15addbac654"
      },
      "execution_count": 32,
      "outputs": [
        {
          "output_type": "execute_result",
          "data": {
            "text/plain": [
              "<PIL.PngImagePlugin.PngImageFile image mode=RGBA size=288x288 at 0x7F28E1706050>"
            ],
            "image/png": "[encoded data removed]"
          },
          "metadata": {},
          "execution_count": 32
        }
      ]
    },
    {
      "cell_type": "code",
      "source": [
        "anim_file = 'dcgan_v3.gif'\n",
        "\n",
        "with imageio.get_writer(anim_file, mode='I') as writer:\n",
        "  filenames = glob.glob('image*.png')\n",
        "  filenames = sorted(filenames)\n",
        "  for filename in filenames:\n",
        "    image = imageio.imread(filename)\n",
        "    writer.append_data(image)\n",
        "#   image = imageio.imread(filename)\n",
        "#   writer.append_data(image)\n",
        "print(type(anim_file))"
      ],
      "metadata": {
        "colab": {
          "base_uri": "https://localhost:8080/"
        },
        "id": "5IduzHPOVHpu",
        "outputId": "955c2877-9057-4c7c-ea37-633710ee9488"
      },
      "execution_count": 44,
      "outputs": [
        {
          "output_type": "stream",
          "name": "stdout",
          "text": [
            "<class 'str'>\n"
          ]
        }
      ]
    },
    {
      "cell_type": "code",
      "source": [],
      "metadata": {
        "id": "8edLmANrVJ8W"
      },
      "execution_count": null,
      "outputs": []
    }
  ]
}