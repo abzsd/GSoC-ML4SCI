{
  "nbformat": 4,
  "nbformat_minor": 0,
  "metadata": {
    "colab": {
      "provenance": []
    },
    "kernelspec": {
      "name": "python3",
      "display_name": "Python 3"
    },
    "language_info": {
      "name": "python"
    },
    "accelerator": "GPU"
  },
  "cells": [
    {
      "cell_type": "code",
      "execution_count": 3,
      "metadata": {
        "id": "dR9POHggaAkx"
      },
      "outputs": [],
      "source": [
        "from IPython.display import clear_output\n",
        "!pip install tensorflow==2.7.0\n",
        "!pip install tensorflow-quantum==0.6.0 --use-deprecated=legacy-resolver\n",
        "!pip install imageio\n",
        "clear_output()"
      ]
    },
    {
      "cell_type": "code",
      "source": [
        "from IPython.display import clear_output\n",
        "!pip install pennylane\n",
        "clear_output()"
      ],
      "metadata": {
        "id": "R04YC_6iiQRa"
      },
      "execution_count": 1,
      "outputs": []
    },
    {
      "cell_type": "code",
      "source": [
        "import numpy as np \n",
        "import sympy as sp\n",
        "import pandas as pd\n",
        "import tensorflow as tf\n",
        "import tensorflow_quantum as tfq\n",
        "import cirq\n",
        "import pennylane as qml\n",
        "from cirq.contrib.svg import SVGCircuit\n",
        "from keras.applications.inception_v3 import InceptionV3, preprocess_input\n",
        "from skimage.transform import resize\n",
        "from numpy import asarray\n",
        "from numpy import cov\n",
        "from numpy import trace\n",
        "from numpy import iscomplexobj\n",
        "from scipy.linalg import sqrtm\n",
        "\n",
        "from h5py import File as HDF5File\n",
        "%matplotlib inline\n",
        "import matplotlib.pyplot as plt\n",
        "\n",
        "import keras.backend as K"
      ],
      "metadata": {
        "id": "qCVDdo1maJO9"
      },
      "execution_count": 2,
      "outputs": []
    },
    {
      "cell_type": "code",
      "source": [
        "from google.colab import drive\n",
        "drive.mount('/content/gdrive/', force_remount=True)"
      ],
      "metadata": {
        "colab": {
          "base_uri": "https://localhost:8080/"
        },
        "id": "nKvimc3naoQv",
        "outputId": "978d0a18-d887-4bed-a614-7d47c5c9da2a"
      },
      "execution_count": 6,
      "outputs": [
        {
          "output_type": "stream",
          "name": "stdout",
          "text": [
            "Mounted at /content/gdrive/\n"
          ]
        }
      ]
    },
    {
      "cell_type": "code",
      "source": [
        "electron_datafile = '/content/electron.hdf5'\n",
        "photon_datafile = '/content/photon.hdf5'"
      ],
      "metadata": {
        "id": "T-H6MoRjisfH"
      },
      "execution_count": 4,
      "outputs": []
    },
    {
      "cell_type": "code",
      "source": [
        "electron_data = HDF5File(electron_datafile, 'r')\n",
        "photon_data = HDF5File(photon_datafile, 'r')"
      ],
      "metadata": {
        "id": "HaQSaxQ6i44d"
      },
      "execution_count": 7,
      "outputs": []
    },
    {
      "cell_type": "code",
      "source": [
        "X_e, y_e = electron_data['X'], electron_data['y']\n",
        "X_e_0 = X_e[:,:,:,0]\n",
        "X_e_1 = X_e[:,:,:,1]\n",
        "print(X_e_0.shape)\n",
        "print(y_e.shape)"
      ],
      "metadata": {
        "colab": {
          "base_uri": "https://localhost:8080/"
        },
        "id": "Vh6ItP-Zi6zl",
        "outputId": "a6c1719a-22fd-4ac1-956c-e7ba0a0bcc93"
      },
      "execution_count": 21,
      "outputs": [
        {
          "output_type": "stream",
          "name": "stdout",
          "text": [
            "(249000, 32, 32)\n",
            "(249000,)\n"
          ]
        }
      ]
    },
    {
      "cell_type": "code",
      "source": [
        "plt.imshow(X_e_0[0,:,:])"
      ],
      "metadata": {
        "colab": {
          "base_uri": "https://localhost:8080/",
          "height": 283
        },
        "id": "p3RWm8C7nhGd",
        "outputId": "23083ab1-12da-4805-f61e-d26b6dff52e6"
      },
      "execution_count": 9,
      "outputs": [
        {
          "output_type": "execute_result",
          "data": {
            "text/plain": [
              "<matplotlib.image.AxesImage at 0x7f26c8c5ccd0>"
            ]
          },
          "metadata": {},
          "execution_count": 9
        },
        {
          "output_type": "display_data",
          "data": {
            "text/plain": [
              "<Figure size 432x288 with 1 Axes>"
            ],
            "image/png": "[encoded data removed]"
          },
          "metadata": {
            "needs_background": "light"
          }
        }
      ]
    },
    {
      "cell_type": "code",
      "source": [
        "plt.imshow(X_e_1[0,:,:])"
      ],
      "metadata": {
        "colab": {
          "base_uri": "https://localhost:8080/",
          "height": 283
        },
        "id": "ik_Qt1_Inn8Z",
        "outputId": "12e51070-f164-499a-e039-149e095d0b47"
      },
      "execution_count": 10,
      "outputs": [
        {
          "output_type": "execute_result",
          "data": {
            "text/plain": [
              "<matplotlib.image.AxesImage at 0x7f26c87550d0>"
            ]
          },
          "metadata": {},
          "execution_count": 10
        },
        {
          "output_type": "display_data",
          "data": {
            "text/plain": [
              "<Figure size 432x288 with 1 Axes>"
            ],
            "image/png": "[encoded data removed]"
          },
          "metadata": {
            "needs_background": "light"
          }
        }
      ]
    },
    {
      "cell_type": "code",
      "source": [
        "X_p, y_p = photon_data['X'], photon_data['y']\n",
        "X_p_0 = X_p[:,:,:,0]\n",
        "X_p_1 = X_p[:,:,:,1]\n",
        "print(X_p_0.shape)\n",
        "print(y_p.shape)"
      ],
      "metadata": {
        "colab": {
          "base_uri": "https://localhost:8080/"
        },
        "id": "n9TdAkDinqBA",
        "outputId": "015333a5-6bb2-415b-c92b-d37c3de476ae"
      },
      "execution_count": 20,
      "outputs": [
        {
          "output_type": "stream",
          "name": "stdout",
          "text": [
            "(249000, 32, 32)\n",
            "(249000,)\n"
          ]
        }
      ]
    },
    {
      "cell_type": "code",
      "source": [
        "plt.imshow(X_p_0[0,:,:])"
      ],
      "metadata": {
        "colab": {
          "base_uri": "https://localhost:8080/",
          "height": 283
        },
        "id": "di8opj0ensPt",
        "outputId": "783d730e-0232-4e5f-fcf4-b9625260191b"
      },
      "execution_count": 12,
      "outputs": [
        {
          "output_type": "execute_result",
          "data": {
            "text/plain": [
              "<matplotlib.image.AxesImage at 0x7f26c86ccb50>"
            ]
          },
          "metadata": {},
          "execution_count": 12
        },
        {
          "output_type": "display_data",
          "data": {
            "text/plain": [
              "<Figure size 432x288 with 1 Axes>"
            ],
            "image/png": "[encoded data removed]"
          },
          "metadata": {
            "needs_background": "light"
          }
        }
      ]
    },
    {
      "cell_type": "code",
      "source": [
        "plt.imshow(X_p_1[0,:,:])"
      ],
      "metadata": {
        "colab": {
          "base_uri": "https://localhost:8080/",
          "height": 283
        },
        "id": "412PPGa3nv_j",
        "outputId": "1bdd054a-1be9-4e04-ce9a-db9f93164e9e"
      },
      "execution_count": 13,
      "outputs": [
        {
          "output_type": "execute_result",
          "data": {
            "text/plain": [
              "<matplotlib.image.AxesImage at 0x7f26c863aed0>"
            ]
          },
          "metadata": {},
          "execution_count": 13
        },
        {
          "output_type": "display_data",
          "data": {
            "text/plain": [
              "<Figure size 432x288 with 1 Axes>"
            ],
            "image/png": "[encoded data removed]"
          },
          "metadata": {
            "needs_background": "light"
          }
        }
      ]
    },
    {
      "cell_type": "code",
      "source": [
        "center = [int(528/32), 528%32]\n",
        "\n",
        "img_size = 8\n",
        "X_e_0 = X_e_0[:100, (center[0]-int(img_size/2)):(center[0]+int(img_size/2)), (center[1]-int(img_size/2)):(center[1]+int(img_size/2))]\n",
        "X_p_0 = X_p_0[:100, (center[0]-int(img_size/2)):(center[0]+int(img_size/2)), (center[1]-int(img_size/2)):(center[1]+int(img_size/2))]\n",
        "\n",
        "print(X_e_0.shape,X_p_0.shape)"
      ],
      "metadata": {
        "colab": {
          "base_uri": "https://localhost:8080/"
        },
        "id": "4VNPGaQfn0iP",
        "outputId": "99820fb6-7d45-462d-c832-d0b6f5b6163f"
      },
      "execution_count": 22,
      "outputs": [
        {
          "output_type": "stream",
          "name": "stdout",
          "text": [
            "(100, 8, 8) (100, 8, 8)\n"
          ]
        }
      ]
    },
    {
      "cell_type": "code",
      "source": [
        "plt.imshow(X_e_0[0])"
      ],
      "metadata": {
        "colab": {
          "base_uri": "https://localhost:8080/",
          "height": 282
        },
        "id": "hsvjQGdOn3Th",
        "outputId": "f467a472-ff8a-4b5e-89e1-6ce30114410a"
      },
      "execution_count": 23,
      "outputs": [
        {
          "output_type": "execute_result",
          "data": {
            "text/plain": [
              "<matplotlib.image.AxesImage at 0x7f26c8402190>"
            ]
          },
          "metadata": {},
          "execution_count": 23
        },
        {
          "output_type": "display_data",
          "data": {
            "text/plain": [
              "<Figure size 432x288 with 1 Axes>"
            ],
            "image/png": "[encoded data removed]"
          },
          "metadata": {
            "needs_background": "light"
          }
        }
      ]
    },
    {
      "cell_type": "code",
      "source": [
        "from sklearn.decomposition import PCA\n",
        "\n",
        "X_flatten = X_e_0.reshape(-1,X_e_0.shape[1]*X_e_0.shape[2])\n",
        "pca = PCA(n_components=4)\n",
        "pca.fit(X_flatten)\n",
        "X_pca_transform = pca.transform(X_flatten)\n",
        "print(X_pca_transform.shape)\n",
        "# X_pca_transform[1].reshape((20,20))\n",
        "print(np.cumsum(pca.explained_variance_ratio_))"
      ],
      "metadata": {
        "colab": {
          "base_uri": "https://localhost:8080/"
        },
        "id": "6S6Gwxnun7jG",
        "outputId": "c09cdcc3-ba7b-4447-ae17-8c42e5746bf3"
      },
      "execution_count": 24,
      "outputs": [
        {
          "output_type": "stream",
          "name": "stdout",
          "text": [
            "(100, 4)\n",
            "[0.41593674 0.66298485 0.7802815  0.8572814 ]\n"
          ]
        }
      ]
    },
    {
      "cell_type": "code",
      "source": [
        "tf.test.gpu_device_name()"
      ],
      "metadata": {
        "colab": {
          "base_uri": "https://localhost:8080/",
          "height": 36
        },
        "id": "FOkzYtxdodej",
        "outputId": "51aef7de-110e-4564-f29d-60f2e050d515"
      },
      "execution_count": 28,
      "outputs": [
        {
          "output_type": "execute_result",
          "data": {
            "text/plain": [
              "'/device:GPU:0'"
            ],
            "application/vnd.google.colaboratory.intrinsic+json": {
              "type": "string"
            }
          },
          "metadata": {},
          "execution_count": 28
        }
      ]
    },
    {
      "cell_type": "code",
      "source": [
        "def one_qubit_unitary(qubit, symbols):\n",
        "  return cirq.Circuit(\n",
        "    [cirq.rz(symbols[0])(qubit),\n",
        "      cirq.ry(symbols[1])(qubit),\n",
        "      cirq.rz(symbols[2])(qubit)]\n",
        "  )"
      ],
      "metadata": {
        "id": "lM_zUrLuogE1"
      },
      "execution_count": 29,
      "outputs": []
    },
    {
      "cell_type": "code",
      "source": [
        "def two_qubit_unitary(qubits):\n",
        "  cx_ops = [cirq.CX(q0, q1) for q0, q1 in zip(qubits, qubits[1:])]\n",
        "  cx_ops += ([cirq.CX(qubits[-1], qubits[0])] if len(qubits) != 2 else [])\n",
        "  return cx_ops"
      ],
      "metadata": {
        "id": "EIh22MdSoj_8"
      },
      "execution_count": 31,
      "outputs": []
    },
    {
      "cell_type": "code",
      "source": [
        "def pqc_circuit_for_conv(qubits,layers):\n",
        "  circuit = cirq.Circuit()\n",
        "  num_qubits = len(qubits)\n",
        "  input_symbols = sp.symbols('x_:'+str(num_qubits))\n",
        "  param_symbols = sp.symbols('theta_:'+str(3*num_qubits*layers))\n",
        "  param_symbols = np.reshape(param_symbols,(layers,num_qubits,3))\n",
        "  for i in range(num_qubits):\n",
        "    circuit += cirq.ry(input_symbols[i])(qubits[i])\n",
        "  \n",
        "  for layer in range(layers):\n",
        "    for i,q in enumerate(qubits):\n",
        "      circuit += one_qubit_unitary(q,param_symbols[layer,i,:])\n",
        "    circuit += two_qubit_unitary(qubits)\n",
        "  \n",
        "  return circuit,input_symbols,list(param_symbols.flat)"
      ],
      "metadata": {
        "id": "FaeUqudqowoL"
      },
      "execution_count": 32,
      "outputs": []
    },
    {
      "cell_type": "code",
      "source": [
        "demo_circuit,i_symbols,p_symbols = pqc_circuit_for_conv(cirq.GridQubit.rect(1,4),layers=2)\n",
        "SVGCircuit(demo_circuit)"
      ],
      "metadata": {
        "colab": {
          "base_uri": "https://localhost:8080/",
          "height": 259
        },
        "id": "2QmstJgmo-zr",
        "outputId": "1047a489-5f47-4d48-db3a-2fec6c72e8b8"
      },
      "execution_count": 33,
      "outputs": [
        {
          "output_type": "stream",
          "name": "stderr",
          "text": [
            "WARNING:matplotlib.font_manager:findfont: Font family ['Arial'] not found. Falling back to DejaVu Sans.\n"
          ]
        },
        {
          "output_type": "execute_result",
          "data": {
            "text/plain": [
              "<cirq.contrib.svg.svg.SVGCircuit at 0x7f26c50cf7d0>"
            ],
            "image/svg+xml": "<svg xmlns=\"http://www.w3.org/2000/svg\" width=\"3156.3230859375008\" height=\"200.0\"><line x1=\"34.7588671875\" x2=\"3126.3230859375008\" y1=\"25.0\" y2=\"25.0\" stroke=\"#1967d2\" stroke-width=\"1\" /><line x1=\"34.7588671875\" x2=\"3126.3230859375008\" y1=\"75.0\" y2=\"75.0\" stroke=\"#1967d2\" stroke-width=\"1\" /><line x1=\"34.7588671875\" x2=\"3126.3230859375008\" y1=\"125.0\" y2=\"125.0\" stroke=\"#1967d2\" stroke-width=\"1\" /><line x1=\"34.7588671875\" x2=\"3126.3230859375008\" y1=\"175.0\" y2=\"175.0\" stroke=\"#1967d2\" stroke-width=\"1\" /><line x1=\"854.06779296875\" x2=\"854.06779296875\" y1=\"25.0\" y2=\"75.0\" stroke=\"black\" stroke-width=\"3\" /><line x1=\"1179.35802734375\" x2=\"1179.35802734375\" y1=\"75.0\" y2=\"125.0\" stroke=\"black\" stroke-width=\"3\" /><line x1=\"1498.2754296875003\" x2=\"1498.2754296875003\" y1=\"125.0\" y2=\"175.0\" stroke=\"black\" stroke-width=\"3\" /><line x1=\"1558.2754296875003\" x2=\"1558.2754296875003\" y1=\"25.0\" y2=\"175.0\" stroke=\"black\" stroke-width=\"3\" /><line x1=\"2350.94015625\" x2=\"2350.94015625\" y1=\"25.0\" y2=\"75.0\" stroke=\"black\" stroke-width=\"3\" /><line x1=\"2702.9520703125004\" x2=\"2702.9520703125004\" y1=\"75.0\" y2=\"125.0\" stroke=\"black\" stroke-width=\"3\" /><line x1=\"3026.3230859375008\" x2=\"3026.3230859375008\" y1=\"125.0\" y2=\"175.0\" stroke=\"black\" stroke-width=\"3\" /><line x1=\"3086.3230859375008\" x2=\"3086.3230859375008\" y1=\"25.0\" y2=\"175.0\" stroke=\"black\" stroke-width=\"3\" /><rect x=\"10.0\" y=\"5.0\" width=\"49.517734375\" height=\"40\" stroke=\"black\" fill=\"white\" stroke-width=\"0\" /><text x=\"34.7588671875\" y=\"25.0\" dominant-baseline=\"middle\" text-anchor=\"middle\" font-size=\"14px\" font-family=\"Arial\">(0, 0): </text><rect x=\"10.0\" y=\"55.0\" width=\"49.517734375\" height=\"40\" stroke=\"black\" fill=\"white\" stroke-width=\"0\" /><text x=\"34.7588671875\" y=\"75.0\" dominant-baseline=\"middle\" text-anchor=\"middle\" font-size=\"14px\" font-family=\"Arial\">(0, 1): </text><rect x=\"10.0\" y=\"105.0\" width=\"49.517734375\" height=\"40\" stroke=\"black\" fill=\"white\" stroke-width=\"0\" /><text x=\"34.7588671875\" y=\"125.0\" dominant-baseline=\"middle\" text-anchor=\"middle\" font-size=\"14px\" font-family=\"Arial\">(0, 2): </text><rect x=\"10.0\" y=\"155.0\" width=\"49.517734375\" height=\"40\" stroke=\"black\" fill=\"white\" stroke-width=\"0\" /><text x=\"34.7588671875\" y=\"175.0\" dominant-baseline=\"middle\" text-anchor=\"middle\" font-size=\"14px\" font-family=\"Arial\">(0, 3): </text><rect x=\"79.517734375\" y=\"5.0\" width=\"59.7823046875\" height=\"40\" stroke=\"black\" fill=\"white\" stroke-width=\"1\" /><text x=\"109.40888671875001\" y=\"25.0\" dominant-baseline=\"middle\" text-anchor=\"middle\" font-size=\"14px\" font-family=\"Arial\">Ry(x_0)</text><rect x=\"79.517734375\" y=\"55.0\" width=\"59.7823046875\" height=\"40\" stroke=\"black\" fill=\"white\" stroke-width=\"1\" /><text x=\"109.40888671875001\" y=\"75.0\" dominant-baseline=\"middle\" text-anchor=\"middle\" font-size=\"14px\" font-family=\"Arial\">Ry(x_1)</text><rect x=\"79.517734375\" y=\"105.0\" width=\"59.7823046875\" height=\"40\" stroke=\"black\" fill=\"white\" stroke-width=\"1\" /><text x=\"109.40888671875001\" y=\"125.0\" dominant-baseline=\"middle\" text-anchor=\"middle\" font-size=\"14px\" font-family=\"Arial\">Ry(x_2)</text><rect x=\"79.517734375\" y=\"155.0\" width=\"59.7823046875\" height=\"40\" stroke=\"black\" fill=\"white\" stroke-width=\"1\" /><text x=\"109.40888671875001\" y=\"175.0\" dominant-baseline=\"middle\" text-anchor=\"middle\" font-size=\"14px\" font-family=\"Arial\">Ry(x_3)</text><rect x=\"159.3000390625\" y=\"5.0\" width=\"88.37457031250001\" height=\"40\" stroke=\"black\" fill=\"white\" stroke-width=\"1\" /><text x=\"203.48732421875\" y=\"25.0\" dominant-baseline=\"middle\" text-anchor=\"middle\" font-size=\"14px\" font-family=\"Arial\">Rz(theta_0)</text><rect x=\"267.674609375\" y=\"5.0\" width=\"88.54109375\" height=\"40\" stroke=\"black\" fill=\"white\" stroke-width=\"1\" /><text x=\"311.94515624999997\" y=\"25.0\" dominant-baseline=\"middle\" text-anchor=\"middle\" font-size=\"14px\" font-family=\"Arial\">Ry(theta_1)</text><rect x=\"376.215703125\" y=\"5.0\" width=\"88.37457031250001\" height=\"40\" stroke=\"black\" fill=\"white\" stroke-width=\"1\" /><text x=\"420.40298828125003\" y=\"25.0\" dominant-baseline=\"middle\" text-anchor=\"middle\" font-size=\"14px\" font-family=\"Arial\">Rz(theta_2)</text><rect x=\"484.59027343749995\" y=\"55.0\" width=\"88.37457031250001\" height=\"40\" stroke=\"black\" fill=\"white\" stroke-width=\"1\" /><text x=\"528.77755859375\" y=\"75.0\" dominant-baseline=\"middle\" text-anchor=\"middle\" font-size=\"14px\" font-family=\"Arial\">Rz(theta_3)</text><rect x=\"592.96484375\" y=\"55.0\" width=\"88.54109375\" height=\"40\" stroke=\"black\" fill=\"white\" stroke-width=\"1\" /><text x=\"637.235390625\" y=\"75.0\" dominant-baseline=\"middle\" text-anchor=\"middle\" font-size=\"14px\" font-family=\"Arial\">Ry(theta_4)</text><rect x=\"701.5059375\" y=\"55.0\" width=\"88.37457031250001\" height=\"40\" stroke=\"black\" fill=\"white\" stroke-width=\"1\" /><text x=\"745.69322265625\" y=\"75.0\" dominant-baseline=\"middle\" text-anchor=\"middle\" font-size=\"14px\" font-family=\"Arial\">Rz(theta_5)</text><rect x=\"809.8805078125\" y=\"105.0\" width=\"88.37457031250001\" height=\"40\" stroke=\"black\" fill=\"white\" stroke-width=\"1\" /><text x=\"854.06779296875\" y=\"125.0\" dominant-baseline=\"middle\" text-anchor=\"middle\" font-size=\"14px\" font-family=\"Arial\">Rz(theta_6)</text><circle cx=\"854.06779296875\" cy=\"25.0\" r=\"10.0\" /><rect x=\"809.8805078125\" y=\"55.0\" width=\"88.37457031250001\" height=\"40\" stroke=\"black\" fill=\"white\" stroke-width=\"1\" /><text x=\"854.06779296875\" y=\"75.0\" dominant-baseline=\"middle\" text-anchor=\"middle\" font-size=\"18px\" font-family=\"Arial\">X</text><rect x=\"918.2550781250001\" y=\"105.0\" width=\"88.54109375\" height=\"40\" stroke=\"black\" fill=\"white\" stroke-width=\"1\" /><text x=\"962.5256250000001\" y=\"125.0\" dominant-baseline=\"middle\" text-anchor=\"middle\" font-size=\"14px\" font-family=\"Arial\">Ry(theta_7)</text><rect x=\"1026.796171875\" y=\"105.0\" width=\"88.37457031250001\" height=\"40\" stroke=\"black\" fill=\"white\" stroke-width=\"1\" /><text x=\"1070.98345703125\" y=\"125.0\" dominant-baseline=\"middle\" text-anchor=\"middle\" font-size=\"14px\" font-family=\"Arial\">Rz(theta_8)</text><rect x=\"1135.1707421875\" y=\"155.0\" width=\"88.37457031250001\" height=\"40\" stroke=\"black\" fill=\"white\" stroke-width=\"1\" /><text x=\"1179.35802734375\" y=\"175.0\" dominant-baseline=\"middle\" text-anchor=\"middle\" font-size=\"14px\" font-family=\"Arial\">Rz(theta_9)</text><circle cx=\"1179.35802734375\" cy=\"75.0\" r=\"10.0\" /><rect x=\"1135.1707421875\" y=\"105.0\" width=\"88.37457031250001\" height=\"40\" stroke=\"black\" fill=\"white\" stroke-width=\"1\" /><text x=\"1179.35802734375\" y=\"125.0\" dominant-baseline=\"middle\" text-anchor=\"middle\" font-size=\"18px\" font-family=\"Arial\">X</text><rect x=\"1243.5453125000001\" y=\"155.0\" width=\"97.4483203125\" height=\"40\" stroke=\"black\" fill=\"white\" stroke-width=\"1\" /><text x=\"1292.2694726562502\" y=\"175.0\" dominant-baseline=\"middle\" text-anchor=\"middle\" font-size=\"14px\" font-family=\"Arial\">Ry(theta_10)</text><rect x=\"1360.9936328125002\" y=\"155.0\" width=\"97.28179687500001\" height=\"40\" stroke=\"black\" fill=\"white\" stroke-width=\"1\" /><text x=\"1409.6345312500002\" y=\"175.0\" dominant-baseline=\"middle\" text-anchor=\"middle\" font-size=\"14px\" font-family=\"Arial\">Rz(theta_11)</text><circle cx=\"1498.2754296875003\" cy=\"125.0\" r=\"10.0\" /><rect x=\"1478.2754296875003\" y=\"155.0\" width=\"40\" height=\"40\" stroke=\"black\" fill=\"white\" stroke-width=\"1\" /><text x=\"1498.2754296875003\" y=\"175.0\" dominant-baseline=\"middle\" text-anchor=\"middle\" font-size=\"18px\" font-family=\"Arial\">X</text><circle cx=\"1558.2754296875003\" cy=\"175.0\" r=\"10.0\" /><rect x=\"1538.2754296875003\" y=\"5.0\" width=\"40\" height=\"40\" stroke=\"black\" fill=\"white\" stroke-width=\"1\" /><text x=\"1558.2754296875003\" y=\"25.0\" dominant-baseline=\"middle\" text-anchor=\"middle\" font-size=\"18px\" font-family=\"Arial\">X</text><rect x=\"1598.2754296875003\" y=\"5.0\" width=\"97.28179687500001\" height=\"40\" stroke=\"black\" fill=\"white\" stroke-width=\"1\" /><text x=\"1646.9163281250003\" y=\"25.0\" dominant-baseline=\"middle\" text-anchor=\"middle\" font-size=\"14px\" font-family=\"Arial\">Rz(theta_12)</text><rect x=\"1715.5572265625003\" y=\"5.0\" width=\"97.4483203125\" height=\"40\" stroke=\"black\" fill=\"white\" stroke-width=\"1\" /><text x=\"1764.2813867187504\" y=\"25.0\" dominant-baseline=\"middle\" text-anchor=\"middle\" font-size=\"14px\" font-family=\"Arial\">Ry(theta_13)</text><rect x=\"1833.0055468750004\" y=\"5.0\" width=\"97.28179687500001\" height=\"40\" stroke=\"black\" fill=\"white\" stroke-width=\"1\" /><text x=\"1881.6464453125004\" y=\"25.0\" dominant-baseline=\"middle\" text-anchor=\"middle\" font-size=\"14px\" font-family=\"Arial\">Rz(theta_14)</text><rect x=\"1950.2873437500004\" y=\"55.0\" width=\"97.28179687500001\" height=\"40\" stroke=\"black\" fill=\"white\" stroke-width=\"1\" /><text x=\"1998.9282421875005\" y=\"75.0\" dominant-baseline=\"middle\" text-anchor=\"middle\" font-size=\"14px\" font-family=\"Arial\">Rz(theta_15)</text><rect x=\"2067.5691406250003\" y=\"55.0\" width=\"97.4483203125\" height=\"40\" stroke=\"black\" fill=\"white\" stroke-width=\"1\" /><text x=\"2116.2933007812503\" y=\"75.0\" dominant-baseline=\"middle\" text-anchor=\"middle\" font-size=\"14px\" font-family=\"Arial\">Ry(theta_16)</text><rect x=\"2185.0174609375003\" y=\"55.0\" width=\"97.28179687500001\" height=\"40\" stroke=\"black\" fill=\"white\" stroke-width=\"1\" /><text x=\"2233.658359375\" y=\"75.0\" dominant-baseline=\"middle\" text-anchor=\"middle\" font-size=\"14px\" font-family=\"Arial\">Rz(theta_17)</text><rect x=\"2302.2992578125004\" y=\"105.0\" width=\"97.28179687500001\" height=\"40\" stroke=\"black\" fill=\"white\" stroke-width=\"1\" /><text x=\"2350.94015625\" y=\"125.0\" dominant-baseline=\"middle\" text-anchor=\"middle\" font-size=\"14px\" font-family=\"Arial\">Rz(theta_18)</text><circle cx=\"2350.94015625\" cy=\"25.0\" r=\"10.0\" /><rect x=\"2302.2992578125004\" y=\"55.0\" width=\"97.28179687500001\" height=\"40\" stroke=\"black\" fill=\"white\" stroke-width=\"1\" /><text x=\"2350.94015625\" y=\"75.0\" dominant-baseline=\"middle\" text-anchor=\"middle\" font-size=\"18px\" font-family=\"Arial\">X</text><rect x=\"2419.5810546875005\" y=\"105.0\" width=\"97.4483203125\" height=\"40\" stroke=\"black\" fill=\"white\" stroke-width=\"1\" /><text x=\"2468.3052148437505\" y=\"125.0\" dominant-baseline=\"middle\" text-anchor=\"middle\" font-size=\"14px\" font-family=\"Arial\">Ry(theta_19)</text><rect x=\"2537.0293750000005\" y=\"105.0\" width=\"97.28179687500001\" height=\"40\" stroke=\"black\" fill=\"white\" stroke-width=\"1\" /><text x=\"2585.6702734375003\" y=\"125.0\" dominant-baseline=\"middle\" text-anchor=\"middle\" font-size=\"14px\" font-family=\"Arial\">Rz(theta_20)</text><rect x=\"2654.3111718750006\" y=\"155.0\" width=\"97.28179687500001\" height=\"40\" stroke=\"black\" fill=\"white\" stroke-width=\"1\" /><text x=\"2702.9520703125004\" y=\"175.0\" dominant-baseline=\"middle\" text-anchor=\"middle\" font-size=\"14px\" font-family=\"Arial\">Rz(theta_21)</text><circle cx=\"2702.9520703125004\" cy=\"75.0\" r=\"10.0\" /><rect x=\"2654.3111718750006\" y=\"105.0\" width=\"97.28179687500001\" height=\"40\" stroke=\"black\" fill=\"white\" stroke-width=\"1\" /><text x=\"2702.9520703125004\" y=\"125.0\" dominant-baseline=\"middle\" text-anchor=\"middle\" font-size=\"18px\" font-family=\"Arial\">X</text><rect x=\"2771.5929687500006\" y=\"155.0\" width=\"97.4483203125\" height=\"40\" stroke=\"black\" fill=\"white\" stroke-width=\"1\" /><text x=\"2820.3171289062507\" y=\"175.0\" dominant-baseline=\"middle\" text-anchor=\"middle\" font-size=\"14px\" font-family=\"Arial\">Ry(theta_22)</text><rect x=\"2889.0412890625007\" y=\"155.0\" width=\"97.28179687500001\" height=\"40\" stroke=\"black\" fill=\"white\" stroke-width=\"1\" /><text x=\"2937.6821875000005\" y=\"175.0\" dominant-baseline=\"middle\" text-anchor=\"middle\" font-size=\"14px\" font-family=\"Arial\">Rz(theta_23)</text><circle cx=\"3026.3230859375008\" cy=\"125.0\" r=\"10.0\" /><rect x=\"3006.3230859375008\" y=\"155.0\" width=\"40\" height=\"40\" stroke=\"black\" fill=\"white\" stroke-width=\"1\" /><text x=\"3026.3230859375008\" y=\"175.0\" dominant-baseline=\"middle\" text-anchor=\"middle\" font-size=\"18px\" font-family=\"Arial\">X</text><circle cx=\"3086.3230859375008\" cy=\"175.0\" r=\"10.0\" /><rect x=\"3066.3230859375008\" y=\"5.0\" width=\"40\" height=\"40\" stroke=\"black\" fill=\"white\" stroke-width=\"1\" /><text x=\"3086.3230859375008\" y=\"25.0\" dominant-baseline=\"middle\" text-anchor=\"middle\" font-size=\"18px\" font-family=\"Arial\">X</text></svg>"
          },
          "metadata": {},
          "execution_count": 33
        }
      ]
    },
    {
      "cell_type": "code",
      "source": [
        "class QConvPQC(tf.keras.layers.Layer):\n",
        "   def __init__(self,n_qubits,layers,name='Quantum Convolutional layer'):\n",
        "     super(QConvPQC,self).__init__(name=name)\n",
        "     self.num_qubits = n_qubits\n",
        "    #  self.symbols = symbols\n",
        "     self.layers = layers\n",
        "     self.main_name = name\n",
        "     self.qubits = cirq.GridQubit.rect(1, n_qubits)\n",
        "     self.observables = cirq.Z(self.qubits[-1])\n",
        "     circuit, input_symbols, param_symbols = pqc_circuit_for_conv(cirq.GridQubit.rect(1,self.num_qubits),layers=self.layers)\n",
        "     param_vals = tf.random_uniform_initializer(minval=-np.pi,maxval=np.pi)\n",
        "     self.params = tf.Variable(\n",
        "         initial_value=param_vals(shape=(1,len(param_symbols)),dtype='float32'),\n",
        "         trainable = True,\n",
        "         name = self.name + '-parameters'\n",
        "     ) \n",
        "     self.empty_circuit = tfq.convert_to_tensor([cirq.Circuit()])\n",
        "\n",
        "     self.computation_layer = tfq.layers.ControlledPQC(circuit, self.observables)\n",
        "    \n",
        "   def get_config(self):\n",
        "     config = super().get_config().copy()\n",
        "     config.update({\n",
        "         'qubit_count':self.num_qubits,\n",
        "        #  'symbols':self.symbols,\n",
        "         'layer_count':self.layers,\n",
        "         'layer_name':self.name\n",
        "     })\n",
        "     return config\n",
        "   def call(self,inputs):\n",
        "     batch_size = tf.shape(inputs)[0]\n",
        "     \n",
        "     inputs_flattened = tf.keras.layers.Flatten()(inputs)\n",
        "     quantum_inputs = tf.math.atan(inputs_flattened)\n",
        "     params_batch = tf.tile(self.params, multiples=[batch_size,1], name=self.name + '-tiled_up_parameters')\n",
        "     empty_circuits_batch = tf.repeat(self.empty_circuit, repeats = batch_size, name=self.name + '-empty_circuits')\n",
        "     \n",
        "     joined_params = tf.concat([quantum_inputs,params_batch],axis=-1)\n",
        "\n",
        "     return self.computation_layer([empty_circuits_batch,joined_params])"
      ],
      "metadata": {
        "id": "2m9NdFVgpAuX"
      },
      "execution_count": 34,
      "outputs": []
    },
    {
      "cell_type": "code",
      "source": [
        "def QConv_layer(inputs,layers,filter_size,stride,conv_id='',name='QConv_layer_'):\n",
        "  iter = int(1 + (inputs.shape[1]-filter_size)/stride)\n",
        "  n_qubits = filter_size*filter_size\n",
        "  pqc = QConvPQC(n_qubits=n_qubits,layers=layers,name=name+conv_id) # \n",
        "  conv = []\n",
        "  for i in range(iter):\n",
        "    for j in range(iter):\n",
        "      temp = pqc(inputs[:,stride*i:filter_size+i*stride,stride*i:filter_size+i*stride])\n",
        "      conv += [temp]\n",
        "  output_concat = tf.keras.layers.Concatenate(axis=1)(conv)\n",
        "  output_reshape = tf.keras.layers.Reshape((iter,iter),name='Reshape_'+conv_id)(output_concat)\n",
        "  return output_reshape"
      ],
      "metadata": {
        "id": "evPkJFddpKEy"
      },
      "execution_count": 35,
      "outputs": []
    },
    {
      "cell_type": "code",
      "source": [
        "layers = 2\n",
        "filter_size = [4,3,2]\n",
        "stride = [1,1,1]\n",
        "\n",
        "data_inputs = tf.keras.Input(shape=(X_e_0.shape[1], X_e_0.shape[2], ),dtype=tf.dtypes.float32,name='Input_layer')\n",
        "conv_1 = QConv_layer(inputs=data_inputs,layers=layers,filter_size=filter_size[0],stride=stride[0],conv_id='1') #\n",
        "conv_2 = QConv_layer(inputs=conv_1,layers=layers,filter_size=filter_size[1],stride=stride[1],conv_id='2')  #\n",
        "conv_3 = QConv_layer(inputs=conv_2,layers=layers,filter_size=filter_size[2],stride=stride[2],conv_id='3')  #\n",
        "conv_output = tf.keras.layers.Flatten()(conv_3)\n",
        "normalized_conv_output = tf.keras.layers.BatchNormalization(trainable=True)(conv_output)\n",
        "model = tf.keras.Model(inputs=[data_inputs],outputs=[normalized_conv_output])"
      ],
      "metadata": {
        "id": "YGe32VFqpMJA"
      },
      "execution_count": 70,
      "outputs": []
    },
    {
      "cell_type": "code",
      "source": [
        "model.summary()"
      ],
      "metadata": {
        "colab": {
          "base_uri": "https://localhost:8080/"
        },
        "id": "wBSZKDdHpQ0R",
        "outputId": "83d63b3c-6420-463f-e639-9cd023007189"
      },
      "execution_count": 71,
      "outputs": [
        {
          "output_type": "stream",
          "name": "stdout",
          "text": [
            "Model: \"model_11\"\n",
            "__________________________________________________________________________________________________\n",
            " Layer (type)                   Output Shape         Param #     Connected to                     \n",
            "==================================================================================================\n",
            " Input_layer (InputLayer)       [(None, 8, 8)]       0           []                               \n",
            "                                                                                                  \n",
            " tf.__operators__.getitem_38 (S  (None, 4, 4)        0           ['Input_layer[0][0]']            \n",
            " licingOpLambda)                                                                                  \n",
            "                                                                                                  \n",
            " tf.__operators__.getitem_39 (S  (None, 4, 4)        0           ['Input_layer[0][0]']            \n",
            " licingOpLambda)                                                                                  \n",
            "                                                                                                  \n",
            " tf.__operators__.getitem_40 (S  (None, 4, 4)        0           ['Input_layer[0][0]']            \n",
            " licingOpLambda)                                                                                  \n",
            "                                                                                                  \n",
            " tf.__operators__.getitem_41 (S  (None, 4, 4)        0           ['Input_layer[0][0]']            \n",
            " licingOpLambda)                                                                                  \n",
            "                                                                                                  \n",
            " tf.__operators__.getitem_42 (S  (None, 4, 4)        0           ['Input_layer[0][0]']            \n",
            " licingOpLambda)                                                                                  \n",
            "                                                                                                  \n",
            " tf.__operators__.getitem_43 (S  (None, 4, 4)        0           ['Input_layer[0][0]']            \n",
            " licingOpLambda)                                                                                  \n",
            "                                                                                                  \n",
            " tf.__operators__.getitem_44 (S  (None, 4, 4)        0           ['Input_layer[0][0]']            \n",
            " licingOpLambda)                                                                                  \n",
            "                                                                                                  \n",
            " tf.__operators__.getitem_45 (S  (None, 4, 4)        0           ['Input_layer[0][0]']            \n",
            " licingOpLambda)                                                                                  \n",
            "                                                                                                  \n",
            " tf.__operators__.getitem_46 (S  (None, 4, 4)        0           ['Input_layer[0][0]']            \n",
            " licingOpLambda)                                                                                  \n",
            "                                                                                                  \n",
            " tf.__operators__.getitem_47 (S  (None, 4, 4)        0           ['Input_layer[0][0]']            \n",
            " licingOpLambda)                                                                                  \n",
            "                                                                                                  \n",
            " tf.__operators__.getitem_48 (S  (None, 4, 4)        0           ['Input_layer[0][0]']            \n",
            " licingOpLambda)                                                                                  \n",
            "                                                                                                  \n",
            " tf.__operators__.getitem_49 (S  (None, 4, 4)        0           ['Input_layer[0][0]']            \n",
            " licingOpLambda)                                                                                  \n",
            "                                                                                                  \n",
            " tf.__operators__.getitem_50 (S  (None, 4, 4)        0           ['Input_layer[0][0]']            \n",
            " licingOpLambda)                                                                                  \n",
            "                                                                                                  \n",
            " tf.__operators__.getitem_51 (S  (None, 4, 4)        0           ['Input_layer[0][0]']            \n",
            " licingOpLambda)                                                                                  \n",
            "                                                                                                  \n",
            " tf.__operators__.getitem_52 (S  (None, 4, 4)        0           ['Input_layer[0][0]']            \n",
            " licingOpLambda)                                                                                  \n",
            "                                                                                                  \n",
            " tf.__operators__.getitem_53 (S  (None, 4, 4)        0           ['Input_layer[0][0]']            \n",
            " licingOpLambda)                                                                                  \n",
            "                                                                                                  \n",
            " tf.__operators__.getitem_54 (S  (None, 4, 4)        0           ['Input_layer[0][0]']            \n",
            " licingOpLambda)                                                                                  \n",
            "                                                                                                  \n",
            " tf.__operators__.getitem_55 (S  (None, 4, 4)        0           ['Input_layer[0][0]']            \n",
            " licingOpLambda)                                                                                  \n",
            "                                                                                                  \n",
            " tf.__operators__.getitem_56 (S  (None, 4, 4)        0           ['Input_layer[0][0]']            \n",
            " licingOpLambda)                                                                                  \n",
            "                                                                                                  \n",
            " tf.__operators__.getitem_57 (S  (None, 4, 4)        0           ['Input_layer[0][0]']            \n",
            " licingOpLambda)                                                                                  \n",
            "                                                                                                  \n",
            " tf.__operators__.getitem_58 (S  (None, 4, 4)        0           ['Input_layer[0][0]']            \n",
            " licingOpLambda)                                                                                  \n",
            "                                                                                                  \n",
            " tf.__operators__.getitem_59 (S  (None, 4, 4)        0           ['Input_layer[0][0]']            \n",
            " licingOpLambda)                                                                                  \n",
            "                                                                                                  \n",
            " tf.__operators__.getitem_60 (S  (None, 4, 4)        0           ['Input_layer[0][0]']            \n",
            " licingOpLambda)                                                                                  \n",
            "                                                                                                  \n",
            " tf.__operators__.getitem_61 (S  (None, 4, 4)        0           ['Input_layer[0][0]']            \n",
            " licingOpLambda)                                                                                  \n",
            "                                                                                                  \n",
            " tf.__operators__.getitem_62 (S  (None, 4, 4)        0           ['Input_layer[0][0]']            \n",
            " licingOpLambda)                                                                                  \n",
            "                                                                                                  \n",
            " QConv_layer_1 (QConvPQC)       (None, 1)            96          ['tf.__operators__.getitem_38[0][\n",
            "                                                                 0]',                             \n",
            "                                                                  'tf.__operators__.getitem_39[0][\n",
            "                                                                 0]',                             \n",
            "                                                                  'tf.__operators__.getitem_40[0][\n",
            "                                                                 0]',                             \n",
            "                                                                  'tf.__operators__.getitem_41[0][\n",
            "                                                                 0]',                             \n",
            "                                                                  'tf.__operators__.getitem_42[0][\n",
            "                                                                 0]',                             \n",
            "                                                                  'tf.__operators__.getitem_43[0][\n",
            "                                                                 0]',                             \n",
            "                                                                  'tf.__operators__.getitem_44[0][\n",
            "                                                                 0]',                             \n",
            "                                                                  'tf.__operators__.getitem_45[0][\n",
            "                                                                 0]',                             \n",
            "                                                                  'tf.__operators__.getitem_46[0][\n",
            "                                                                 0]',                             \n",
            "                                                                  'tf.__operators__.getitem_47[0][\n",
            "                                                                 0]',                             \n",
            "                                                                  'tf.__operators__.getitem_48[0][\n",
            "                                                                 0]',                             \n",
            "                                                                  'tf.__operators__.getitem_49[0][\n",
            "                                                                 0]',                             \n",
            "                                                                  'tf.__operators__.getitem_50[0][\n",
            "                                                                 0]',                             \n",
            "                                                                  'tf.__operators__.getitem_51[0][\n",
            "                                                                 0]',                             \n",
            "                                                                  'tf.__operators__.getitem_52[0][\n",
            "                                                                 0]',                             \n",
            "                                                                  'tf.__operators__.getitem_53[0][\n",
            "                                                                 0]',                             \n",
            "                                                                  'tf.__operators__.getitem_54[0][\n",
            "                                                                 0]',                             \n",
            "                                                                  'tf.__operators__.getitem_55[0][\n",
            "                                                                 0]',                             \n",
            "                                                                  'tf.__operators__.getitem_56[0][\n",
            "                                                                 0]',                             \n",
            "                                                                  'tf.__operators__.getitem_57[0][\n",
            "                                                                 0]',                             \n",
            "                                                                  'tf.__operators__.getitem_58[0][\n",
            "                                                                 0]',                             \n",
            "                                                                  'tf.__operators__.getitem_59[0][\n",
            "                                                                 0]',                             \n",
            "                                                                  'tf.__operators__.getitem_60[0][\n",
            "                                                                 0]',                             \n",
            "                                                                  'tf.__operators__.getitem_61[0][\n",
            "                                                                 0]',                             \n",
            "                                                                  'tf.__operators__.getitem_62[0][\n",
            "                                                                 0]']                             \n",
            "                                                                                                  \n",
            " concatenate_3 (Concatenate)    (None, 25)           0           ['QConv_layer_1[0][0]',          \n",
            "                                                                  'QConv_layer_1[1][0]',          \n",
            "                                                                  'QConv_layer_1[2][0]',          \n",
            "                                                                  'QConv_layer_1[3][0]',          \n",
            "                                                                  'QConv_layer_1[4][0]',          \n",
            "                                                                  'QConv_layer_1[5][0]',          \n",
            "                                                                  'QConv_layer_1[6][0]',          \n",
            "                                                                  'QConv_layer_1[7][0]',          \n",
            "                                                                  'QConv_layer_1[8][0]',          \n",
            "                                                                  'QConv_layer_1[9][0]',          \n",
            "                                                                  'QConv_layer_1[10][0]',         \n",
            "                                                                  'QConv_layer_1[11][0]',         \n",
            "                                                                  'QConv_layer_1[12][0]',         \n",
            "                                                                  'QConv_layer_1[13][0]',         \n",
            "                                                                  'QConv_layer_1[14][0]',         \n",
            "                                                                  'QConv_layer_1[15][0]',         \n",
            "                                                                  'QConv_layer_1[16][0]',         \n",
            "                                                                  'QConv_layer_1[17][0]',         \n",
            "                                                                  'QConv_layer_1[18][0]',         \n",
            "                                                                  'QConv_layer_1[19][0]',         \n",
            "                                                                  'QConv_layer_1[20][0]',         \n",
            "                                                                  'QConv_layer_1[21][0]',         \n",
            "                                                                  'QConv_layer_1[22][0]',         \n",
            "                                                                  'QConv_layer_1[23][0]',         \n",
            "                                                                  'QConv_layer_1[24][0]']         \n",
            "                                                                                                  \n",
            " Reshape_1 (Reshape)            (None, 5, 5)         0           ['concatenate_3[0][0]']          \n",
            "                                                                                                  \n",
            " tf.__operators__.getitem_63 (S  (None, 3, 3)        0           ['Reshape_1[0][0]']              \n",
            " licingOpLambda)                                                                                  \n",
            "                                                                                                  \n",
            " tf.__operators__.getitem_64 (S  (None, 3, 3)        0           ['Reshape_1[0][0]']              \n",
            " licingOpLambda)                                                                                  \n",
            "                                                                                                  \n",
            " tf.__operators__.getitem_65 (S  (None, 3, 3)        0           ['Reshape_1[0][0]']              \n",
            " licingOpLambda)                                                                                  \n",
            "                                                                                                  \n",
            " tf.__operators__.getitem_66 (S  (None, 3, 3)        0           ['Reshape_1[0][0]']              \n",
            " licingOpLambda)                                                                                  \n",
            "                                                                                                  \n",
            " tf.__operators__.getitem_67 (S  (None, 3, 3)        0           ['Reshape_1[0][0]']              \n",
            " licingOpLambda)                                                                                  \n",
            "                                                                                                  \n",
            " tf.__operators__.getitem_68 (S  (None, 3, 3)        0           ['Reshape_1[0][0]']              \n",
            " licingOpLambda)                                                                                  \n",
            "                                                                                                  \n",
            " tf.__operators__.getitem_69 (S  (None, 3, 3)        0           ['Reshape_1[0][0]']              \n",
            " licingOpLambda)                                                                                  \n",
            "                                                                                                  \n",
            " tf.__operators__.getitem_70 (S  (None, 3, 3)        0           ['Reshape_1[0][0]']              \n",
            " licingOpLambda)                                                                                  \n",
            "                                                                                                  \n",
            " tf.__operators__.getitem_71 (S  (None, 3, 3)        0           ['Reshape_1[0][0]']              \n",
            " licingOpLambda)                                                                                  \n",
            "                                                                                                  \n",
            " QConv_layer_2 (QConvPQC)       (None, 1)            54          ['tf.__operators__.getitem_63[0][\n",
            "                                                                 0]',                             \n",
            "                                                                  'tf.__operators__.getitem_64[0][\n",
            "                                                                 0]',                             \n",
            "                                                                  'tf.__operators__.getitem_65[0][\n",
            "                                                                 0]',                             \n",
            "                                                                  'tf.__operators__.getitem_66[0][\n",
            "                                                                 0]',                             \n",
            "                                                                  'tf.__operators__.getitem_67[0][\n",
            "                                                                 0]',                             \n",
            "                                                                  'tf.__operators__.getitem_68[0][\n",
            "                                                                 0]',                             \n",
            "                                                                  'tf.__operators__.getitem_69[0][\n",
            "                                                                 0]',                             \n",
            "                                                                  'tf.__operators__.getitem_70[0][\n",
            "                                                                 0]',                             \n",
            "                                                                  'tf.__operators__.getitem_71[0][\n",
            "                                                                 0]']                             \n",
            "                                                                                                  \n",
            " concatenate_4 (Concatenate)    (None, 9)            0           ['QConv_layer_2[0][0]',          \n",
            "                                                                  'QConv_layer_2[1][0]',          \n",
            "                                                                  'QConv_layer_2[2][0]',          \n",
            "                                                                  'QConv_layer_2[3][0]',          \n",
            "                                                                  'QConv_layer_2[4][0]',          \n",
            "                                                                  'QConv_layer_2[5][0]',          \n",
            "                                                                  'QConv_layer_2[6][0]',          \n",
            "                                                                  'QConv_layer_2[7][0]',          \n",
            "                                                                  'QConv_layer_2[8][0]']          \n",
            "                                                                                                  \n",
            " Reshape_2 (Reshape)            (None, 3, 3)         0           ['concatenate_4[0][0]']          \n",
            "                                                                                                  \n",
            " tf.__operators__.getitem_72 (S  (None, 2, 2)        0           ['Reshape_2[0][0]']              \n",
            " licingOpLambda)                                                                                  \n",
            "                                                                                                  \n",
            " tf.__operators__.getitem_73 (S  (None, 2, 2)        0           ['Reshape_2[0][0]']              \n",
            " licingOpLambda)                                                                                  \n",
            "                                                                                                  \n",
            " tf.__operators__.getitem_74 (S  (None, 2, 2)        0           ['Reshape_2[0][0]']              \n",
            " licingOpLambda)                                                                                  \n",
            "                                                                                                  \n",
            " tf.__operators__.getitem_75 (S  (None, 2, 2)        0           ['Reshape_2[0][0]']              \n",
            " licingOpLambda)                                                                                  \n",
            "                                                                                                  \n",
            " QConv_layer_3 (QConvPQC)       (None, 1)            24          ['tf.__operators__.getitem_72[0][\n",
            "                                                                 0]',                             \n",
            "                                                                  'tf.__operators__.getitem_73[0][\n",
            "                                                                 0]',                             \n",
            "                                                                  'tf.__operators__.getitem_74[0][\n",
            "                                                                 0]',                             \n",
            "                                                                  'tf.__operators__.getitem_75[0][\n",
            "                                                                 0]']                             \n",
            "                                                                                                  \n",
            " concatenate_5 (Concatenate)    (None, 4)            0           ['QConv_layer_3[0][0]',          \n",
            "                                                                  'QConv_layer_3[1][0]',          \n",
            "                                                                  'QConv_layer_3[2][0]',          \n",
            "                                                                  'QConv_layer_3[3][0]']          \n",
            "                                                                                                  \n",
            " Reshape_3 (Reshape)            (None, 2, 2)         0           ['concatenate_5[0][0]']          \n",
            "                                                                                                  \n",
            " flatten_1 (Flatten)            (None, 4)            0           ['Reshape_3[0][0]']              \n",
            "                                                                                                  \n",
            " batch_normalization_1 (BatchNo  (None, 4)           16          ['flatten_1[0][0]']              \n",
            " rmalization)                                                                                     \n",
            "                                                                                                  \n",
            "==================================================================================================\n",
            "Total params: 190\n",
            "Trainable params: 182\n",
            "Non-trainable params: 8\n",
            "__________________________________________________________________________________________________\n"
          ]
        }
      ]
    },
    {
      "cell_type": "code",
      "source": [
        "def generate_data(data_inputs,layers,filter_size,stride,c_id=''):\n",
        "  conv_1 = QConv_layer(inputs=data_inputs,layers=layers,filter_size=filter_size[0],stride=stride[0],conv_id='1'+c_id) #\n",
        "  conv_2 = QConv_layer(inputs=conv_1,layers=layers,filter_size=filter_size[1],stride=stride[1],conv_id='2'+c_id)  #\n",
        "  conv_3 = QConv_layer(inputs=conv_2,layers=layers,filter_size=filter_size[2],stride=stride[2],conv_id='3'+c_id)  #\n",
        "  conv_output = tf.keras.layers.Flatten(name='Intermediate_output_layer_'+c_id)(conv_3)\n",
        "  normalized_conv_output = tf.keras.layers.BatchNormalization(trainable=True,name='Batch_Normalization_'+c_id)(conv_output)\n",
        "  \n",
        "  # return normalized_conv_output\n",
        "  return conv_output"
      ],
      "metadata": {
        "id": "Z8FfOiX3pThM"
      },
      "execution_count": 72,
      "outputs": []
    },
    {
      "cell_type": "code",
      "source": [
        "def get_output_shape(input_shape,filter_shape,stride,padding='same'):\n",
        "  if (input_shape[0] % stride[0] == 0):\n",
        "    pad_along_height = max(filter_shape[0] - stride[0], 0)\n",
        "  else:\n",
        "    pad_along_height = max(filter_shape[0] - (input_shape[0] % stride[0]), 0)\n",
        "  if (input_shape[1] % stride[1] == 0):\n",
        "    pad_along_width = max(filter_shape[1] - stride[1], 0)\n",
        "  else:\n",
        "    pad_along_width = max(filter_shape[1] - (input_shape[1] % stride[1]), 0)\n",
        "  pad_top = pad_along_height // 2\n",
        "  pad_bottom = pad_along_height - pad_top\n",
        "  pad_left = pad_along_width // 2\n",
        "  pad_right = pad_along_width - pad_left\n",
        "  paddings = tf.constant([[pad_top,pad_bottom],[pad_left,pad_right]])\n",
        "  rows = input_shape[0]+paddings[0][0]+paddings[0][1]\n",
        "  cols = input_shape[1]+paddings[1][0]+paddings[1][1]\n",
        "  padded_shape = tf.TensorShape([rows,cols])\n",
        "  new_rows = np.ceil(float(padded_shape[0] - filter_shape[0] + 1) / float(stride[0]))\n",
        "  new_cols = np.ceil(float(padded_shape[1] - filter_shape[1] + 1) / float(stride[1]))\n",
        "  return tf.TensorShape([int(new_rows), int(new_cols)])"
      ],
      "metadata": {
        "id": "PoqJNg5wpeFD"
      },
      "execution_count": 73,
      "outputs": []
    },
    {
      "cell_type": "code",
      "source": [
        "class QConv2D_layer(tf.keras.layers.Layer):\n",
        "  def __init__(self,layers,filters,filter_shape,stride,seed,parameter_sharing=True,padding='same',conv_id='',name='Quantum_Convolutional_Layer_with_padding'):\n",
        "    super(QConv2D_layer,self).__init__(name=name+conv_id)\n",
        "    self.layers = layers\n",
        "    self.filters = filters\n",
        "    self.parameter_sharing = parameter_sharing\n",
        "    self.filter_shape = filter_shape\n",
        "    self.stride = stride\n",
        "    self.padding = padding\n",
        "    self.main_name = name\n",
        "    self.qubits = cirq.GridQubit.rect(1, filter_shape[0]*filter_shape[1])\n",
        "    self.observables = tfq.convert_to_tensor([cirq.Z(self.qubits[-1])])\n",
        "    self.circuit, self.input_symbols, self.param_symbols = pqc_circuit_for_conv(self.qubits,layers=self.layers)\n",
        "    self.model_circuit = tfq.convert_to_tensor([self.circuit])\n",
        "    self.all_symbols = np.concatenate((self.input_symbols,self.param_symbols),axis=0)\n",
        "    self.initializer = tf.keras.initializers.RandomUniform(0, 2 * np.pi, seed=seed)\n",
        "    # self.param_symbols = tf.constant(self.param_symbols)\n",
        "  \n",
        "  def build(self,input_shape):\n",
        "    if len(input_shape) == 3:\n",
        "      self.input_rows = input_shape[1]\n",
        "      self.input_cols = input_shape[2]\n",
        "      self.input_channels = 1\n",
        "    else:\n",
        "      self.input_rows = input_shape[1]\n",
        "      self.input_cols = input_shape[2]\n",
        "      self.input_channels = input_shape[3]\n",
        "    output_shape = get_output_shape(input_shape[1:3], self.filter_shape, self.stride, self.padding)\n",
        "    self.output_rows = output_shape[0]\n",
        "    self.output_cols = output_shape[1]\n",
        "    if self.parameter_sharing:\n",
        "      self.kernel_shape = tf.TensorShape([self.filters, self.input_channels, len(self.param_symbols)])\n",
        "    else:\n",
        "      self.kernel_shape = tf.TensorShape([self.filters, self.input_channels, \n",
        "                                               self.output_rows,\n",
        "                                               self.output_cols,\n",
        "                                               len(self.param_symbols)])\n",
        "    self.symbol_names = tfq.util.get_circuit_symbols(tfq.from_tensor(self.model_circuit)[0])\n",
        "    self.kernel = self.add_weight(\n",
        "                        name='kernel',\n",
        "                        shape=self.kernel_shape,\n",
        "                        initializer=self.initializer,\n",
        "                        # regularizer=self.regularizer,\n",
        "                        # constraint=self.constraint,\n",
        "                        trainable=True,\n",
        "                        dtype=self.dtype)\n",
        "    self.inputs_preprocess_ = self.inputs_preprocess()\n",
        "  \n",
        "  def inputs_preprocess(self):\n",
        "      kernel_size = (1, 1) + self.filter_shape + (1,)\n",
        "      strides = (1, 1) + self.stride + (1,)\n",
        "      padding = self.padding.upper()\n",
        "      batchsize = lambda x: tf.gather(tf.shape(x), 0)\n",
        "      # planes = number of channels\n",
        "      planes = self.input_channels\n",
        "      rows = self.input_rows\n",
        "      cols = self.input_cols\n",
        "      depth = 1\n",
        "      reshaped_input_ = lambda x: tf.reshape(x, shape=(batchsize(x), rows, cols, planes))\n",
        "    # change input order to (batchsize, depth, rows, cols)\n",
        "      transposed_input = lambda x: tf.transpose(reshaped_input_(x), [0, 3, 1, 2])\n",
        "      reshaped_input = lambda x: tf.reshape(transposed_input(x), \n",
        "                                              shape=(batchsize(x), planes, rows, cols, depth))\n",
        "      input_patches = lambda x: tf.extract_volume_patches(reshaped_input(x),\n",
        "                                            ksizes=kernel_size, strides=strides, padding=padding)\n",
        "      return input_patches \n",
        "\n",
        "    \n",
        "  def call(self,inputs):\n",
        "    batchsize = tf.gather(tf.shape(inputs), 0)\n",
        "    depth = self.input_channels\n",
        "    rows = self.output_rows\n",
        "    cols = self.output_cols\n",
        "\n",
        "    input_patches = self.inputs_preprocess_(inputs)\n",
        "    # resolved_inputs__ = self._input_resolver(inputs)\n",
        "    inputs = tf.reshape(input_patches, [batchsize, depth, \n",
        "                                      self.output_rows, \n",
        "                                      self.output_cols,\n",
        "                                      len(self.input_symbols)])\n",
        "        # change to (depth, batchsize, rows, cols, symbols)\n",
        "    inputs = tf.transpose(inputs, [1, 0, 2, 3, 4])\n",
        "        # total number of circuit = filters*depth*batchsize*rows*cols\n",
        "    circuit_size = tf.reduce_prod([self.filters, batchsize, depth, rows, cols])\n",
        "        # tile inputs to (filters, depth, batchsize, rows, cols, symbols)\n",
        "    tiled_up_inputs = tf.tile([inputs], [self.filters, 1, 1, 1, 1, 1])\n",
        "        # reshape inputs to (circuit_size, symbols)\n",
        "    tiled_up_inputs = tf.reshape(tiled_up_inputs, (circuit_size, tf.shape(tiled_up_inputs)[-1]))\n",
        "    if self.parameter_sharing:\n",
        "      # tile size for weights = batchsize*rows*cols\n",
        "      tile_size = tf.reduce_prod([batchsize, rows, cols])\n",
        "      tiled_up_weights__ = tf.tile([self.kernel], [tile_size, 1, 1, 1])\n",
        "      # change to (filters, depth, batchsize*rows*cols, weight_symbols)\n",
        "      tiled_up_weights_ = tf.transpose(tiled_up_weights__, [1, 2, 0, 3])\n",
        "    else:\n",
        "      # tile size for weights = batchsize\n",
        "      # weight now has shape (batchsize, filters, depth, rows, cols, weight_symbols)\n",
        "      tiled_up_weights__ = tf.tile([self.kernel], [batchsize, 1, 1, 1, 1, 1])\n",
        "      # change to (filters, depth, batchsize, rows, cols, weight_symbols)\n",
        "      tiled_up_weights_ = tf.transpose(tiled_up_weights__, [1, 2, 0, 3, 4, 5])\n",
        "      # reshape to (circuit_size, weight_symbols)\n",
        "    tiled_up_weights = tf.reshape(tiled_up_weights_, (circuit_size, tf.shape(tiled_up_weights_)[-1]))\n",
        "    tiled_up_parameters = tf.concat([tiled_up_inputs, tiled_up_weights], 1)\n",
        "        \n",
        "    # tiled_up_data_circuit = tf.tile(self._data_circuit, [circuit_size])\n",
        "    tiled_up_circuits = tf.tile(self.model_circuit, [circuit_size])\n",
        "    # model_appended = self._append_layer(tiled_up_data_circuit, append=tiled_up_model)\n",
        "    tiled_up_operators = tf.tile([self.observables], [circuit_size, 1])\n",
        "    \n",
        "    result = tfq.layers.Expectation()(tiled_up_circuits,\n",
        "                                    symbol_names=self.symbol_names,\n",
        "                                    symbol_values=tiled_up_parameters,\n",
        "                                    operators=tiled_up_operators)\n",
        "\n",
        "    reshaped_output = tf.reshape(result,(self.filters, self.input_channels, batchsize, self.output_rows, self.output_cols))\n",
        "    summed_output = tf.reduce_mean(reshaped_output, axis=1)\n",
        "    final_output = tf.transpose(summed_output, [1, 2, 3, 0])\n",
        "    return tf.reshape(final_output, (batchsize, self.output_rows, self.output_cols, self.filters))"
      ],
      "metadata": {
        "id": "Dfl8xIiPpkrW"
      },
      "execution_count": 74,
      "outputs": []
    },
    {
      "cell_type": "code",
      "source": [
        "def generate_data_improved(data_inputs,layers,filters,filter_shape,stride,c_id=''):\n",
        "  # inputs = tf.keras.Input(shape=(data_inputs.shape[1],data_inputs.shape[2]), dtype=tf.dtypes.float32,name='Input_layer')\n",
        "  conv_1 = QConv2D_layer(layers=layers[0], filter_shape=filter_shape[0],conv_id ='1'+c_id,\n",
        "                      filters=filters[0], stride=stride[0], padding=\"same\", parameter_sharing=False,seed=2021)(data_inputs)\n",
        "  conv_2 = QConv2D_layer(layers=layers[1], filter_shape=filter_shape[1],conv_id = '2'+c_id,\n",
        "                      filters=filters[1], stride=stride[1], padding=\"same\", parameter_sharing=False,seed=2022)(conv_1)\n",
        "  conv_output = tf.keras.layers.Flatten(name='Intermediate_output_layer_'+c_id)(conv_2)\n",
        "\n",
        "  return conv_output"
      ],
      "metadata": {
        "id": "jaC8Vk7XpsIE"
      },
      "execution_count": 75,
      "outputs": []
    },
    {
      "cell_type": "code",
      "source": [
        "def count_set_bits(n):\n",
        "  count=0\n",
        "  while(n>0):\n",
        "    count += n&1\n",
        "    n >>= 1\n",
        "  return count\n",
        "\n",
        "def swap_test_op(qubits_a,qubits_b):\n",
        "  ret_op = 0\n",
        "  for i in range(1<<len(qubits_a)):\n",
        "    if count_set_bits(i)%2 == 0:\n",
        "      tmp_op = 1\n",
        "      for j,ch in enumerate(bin(i)[2:].zfill(len(qubits_a))):\n",
        "        intermediate = one_proj(qubits_a[j]) * one_proj(qubits_b[j])\n",
        "        if ch =='0':\n",
        "          intermediate = 1 - intermediate\n",
        "        tmp_op *= intermediate\n",
        "      ret_op += tmp_op\n",
        "  return 1-(2*ret_op - 1)"
      ],
      "metadata": {
        "id": "C2qrUFa8puv_"
      },
      "execution_count": 76,
      "outputs": []
    },
    {
      "cell_type": "code",
      "source": [
        "def variational_swap_test_circuit(qubits_a,qubits_b,rotations):\n",
        "  circuit = cirq.Circuit()\n",
        "  for q0,q1 in zip(qubits_a,qubits_b):\n",
        "    circuit += (cirq.CNOT(q0,q1))\n",
        "  rotations = np.reshape(rotations,(-1,2))\n",
        "  for i, q in enumerate(qubits_a):\n",
        "    circuit += cirq.Y(q)**(rotations[i][0])\n",
        "    circuit += cirq.X(q)**(rotations[i][1])\n",
        "  \n",
        "  return circuit,np.ndarray.flatten(rotations)"
      ],
      "metadata": {
        "id": "IqdVWPLfpxUm"
      },
      "execution_count": 77,
      "outputs": []
    },
    {
      "cell_type": "code",
      "source": [
        "qubits = cirq.GridQubit.rect(1,8)\n",
        "SVGCircuit(variational_swap_test_circuit(qubits[:4],qubits[4:8],np.reshape(sp.symbols('x_:4_:'+str(2)),(-1,2)))[0])"
      ],
      "metadata": {
        "colab": {
          "base_uri": "https://localhost:8080/",
          "height": 462
        },
        "id": "YVhJr9AipziQ",
        "outputId": "730cad01-8ce5-4611-b47c-a16881d44d88"
      },
      "execution_count": 78,
      "outputs": [
        {
          "output_type": "execute_result",
          "data": {
            "text/plain": [
              "<cirq.contrib.svg.svg.SVGCircuit at 0x7f26c46eebd0>"
            ],
            "image/svg+xml": "<svg xmlns=\"http://www.w3.org/2000/svg\" width=\"468.70914062500003\" height=\"440.0\"><line x1=\"34.7588671875\" x2=\"438.70914062500003\" y1=\"45.0\" y2=\"45.0\" stroke=\"#1967d2\" stroke-width=\"1\" /><line x1=\"34.7588671875\" x2=\"438.70914062500003\" y1=\"95.0\" y2=\"95.0\" stroke=\"#1967d2\" stroke-width=\"1\" /><line x1=\"34.7588671875\" x2=\"438.70914062500003\" y1=\"145.0\" y2=\"145.0\" stroke=\"#1967d2\" stroke-width=\"1\" /><line x1=\"34.7588671875\" x2=\"438.70914062500003\" y1=\"195.0\" y2=\"195.0\" stroke=\"#1967d2\" stroke-width=\"1\" /><line x1=\"34.7588671875\" x2=\"438.70914062500003\" y1=\"245.0\" y2=\"245.0\" stroke=\"#1967d2\" stroke-width=\"1\" /><line x1=\"34.7588671875\" x2=\"438.70914062500003\" y1=\"295.0\" y2=\"295.0\" stroke=\"#1967d2\" stroke-width=\"1\" /><line x1=\"34.7588671875\" x2=\"438.70914062500003\" y1=\"345.0\" y2=\"345.0\" stroke=\"#1967d2\" stroke-width=\"1\" /><line x1=\"34.7588671875\" x2=\"438.70914062500003\" y1=\"395.0\" y2=\"395.0\" stroke=\"#1967d2\" stroke-width=\"1\" /><line x1=\"69.517734375\" x2=\"239.517734375\" y1=\"5.0\" y2=\"5.0\" stroke=\"black\" stroke-width=\"1\" /><line x1=\"69.517734375\" x2=\"239.517734375\" y1=\"435.0\" y2=\"435.0\" stroke=\"black\" stroke-width=\"1\" /><line x1=\"89.517734375\" x2=\"89.517734375\" y1=\"45.0\" y2=\"245.0\" stroke=\"black\" stroke-width=\"3\" /><line x1=\"129.517734375\" x2=\"129.517734375\" y1=\"95.0\" y2=\"295.0\" stroke=\"black\" stroke-width=\"3\" /><line x1=\"169.517734375\" x2=\"169.517734375\" y1=\"145.0\" y2=\"345.0\" stroke=\"black\" stroke-width=\"3\" /><line x1=\"209.517734375\" x2=\"209.517734375\" y1=\"195.0\" y2=\"395.0\" stroke=\"black\" stroke-width=\"3\" /><line x1=\"69.517734375\" x2=\"69.517734375\" y1=\"5.0\" y2=\"15.0\" stroke=\"black\" stroke-width=\"3\" /><line x1=\"239.517734375\" x2=\"239.517734375\" y1=\"5.0\" y2=\"15.0\" stroke=\"black\" stroke-width=\"3\" /><line x1=\"69.517734375\" x2=\"69.517734375\" y1=\"425.0\" y2=\"435.0\" stroke=\"black\" stroke-width=\"3\" /><line x1=\"239.517734375\" x2=\"239.517734375\" y1=\"425.0\" y2=\"435.0\" stroke=\"black\" stroke-width=\"3\" /><rect x=\"10.0\" y=\"25.0\" width=\"49.517734375\" height=\"40\" stroke=\"black\" fill=\"white\" stroke-width=\"0\" /><text x=\"34.7588671875\" y=\"45.0\" dominant-baseline=\"middle\" text-anchor=\"middle\" font-size=\"14px\" font-family=\"Arial\">(0, 0): </text><rect x=\"10.0\" y=\"75.0\" width=\"49.517734375\" height=\"40\" stroke=\"black\" fill=\"white\" stroke-width=\"0\" /><text x=\"34.7588671875\" y=\"95.0\" dominant-baseline=\"middle\" text-anchor=\"middle\" font-size=\"14px\" font-family=\"Arial\">(0, 1): </text><rect x=\"10.0\" y=\"125.0\" width=\"49.517734375\" height=\"40\" stroke=\"black\" fill=\"white\" stroke-width=\"0\" /><text x=\"34.7588671875\" y=\"145.0\" dominant-baseline=\"middle\" text-anchor=\"middle\" font-size=\"14px\" font-family=\"Arial\">(0, 2): </text><rect x=\"10.0\" y=\"175.0\" width=\"49.517734375\" height=\"40\" stroke=\"black\" fill=\"white\" stroke-width=\"0\" /><text x=\"34.7588671875\" y=\"195.0\" dominant-baseline=\"middle\" text-anchor=\"middle\" font-size=\"14px\" font-family=\"Arial\">(0, 3): </text><rect x=\"10.0\" y=\"225.0\" width=\"49.517734375\" height=\"40\" stroke=\"black\" fill=\"white\" stroke-width=\"0\" /><text x=\"34.7588671875\" y=\"245.0\" dominant-baseline=\"middle\" text-anchor=\"middle\" font-size=\"14px\" font-family=\"Arial\">(0, 4): </text><rect x=\"10.0\" y=\"275.0\" width=\"49.517734375\" height=\"40\" stroke=\"black\" fill=\"white\" stroke-width=\"0\" /><text x=\"34.7588671875\" y=\"295.0\" dominant-baseline=\"middle\" text-anchor=\"middle\" font-size=\"14px\" font-family=\"Arial\">(0, 5): </text><rect x=\"10.0\" y=\"325.0\" width=\"49.517734375\" height=\"40\" stroke=\"black\" fill=\"white\" stroke-width=\"0\" /><text x=\"34.7588671875\" y=\"345.0\" dominant-baseline=\"middle\" text-anchor=\"middle\" font-size=\"14px\" font-family=\"Arial\">(0, 6): </text><rect x=\"10.0\" y=\"375.0\" width=\"49.517734375\" height=\"40\" stroke=\"black\" fill=\"white\" stroke-width=\"0\" /><text x=\"34.7588671875\" y=\"395.0\" dominant-baseline=\"middle\" text-anchor=\"middle\" font-size=\"14px\" font-family=\"Arial\">(0, 7): </text><circle cx=\"89.517734375\" cy=\"45.0\" r=\"10.0\" /><rect x=\"69.517734375\" y=\"225.0\" width=\"40\" height=\"40\" stroke=\"black\" fill=\"white\" stroke-width=\"1\" /><text x=\"89.517734375\" y=\"245.0\" dominant-baseline=\"middle\" text-anchor=\"middle\" font-size=\"18px\" font-family=\"Arial\">X</text><circle cx=\"129.517734375\" cy=\"95.0\" r=\"10.0\" /><rect x=\"109.517734375\" y=\"275.0\" width=\"40\" height=\"40\" stroke=\"black\" fill=\"white\" stroke-width=\"1\" /><text x=\"129.517734375\" y=\"295.0\" dominant-baseline=\"middle\" text-anchor=\"middle\" font-size=\"18px\" font-family=\"Arial\">X</text><circle cx=\"169.517734375\" cy=\"145.0\" r=\"10.0\" /><rect x=\"149.517734375\" y=\"325.0\" width=\"40\" height=\"40\" stroke=\"black\" fill=\"white\" stroke-width=\"1\" /><text x=\"169.517734375\" y=\"345.0\" dominant-baseline=\"middle\" text-anchor=\"middle\" font-size=\"18px\" font-family=\"Arial\">X</text><circle cx=\"209.517734375\" cy=\"195.0\" r=\"10.0\" /><rect x=\"189.517734375\" y=\"375.0\" width=\"40\" height=\"40\" stroke=\"black\" fill=\"white\" stroke-width=\"1\" /><text x=\"209.517734375\" y=\"395.0\" dominant-baseline=\"middle\" text-anchor=\"middle\" font-size=\"18px\" font-family=\"Arial\">X</text><rect x=\"259.517734375\" y=\"25.0\" width=\"69.48085937500001\" height=\"40\" stroke=\"black\" fill=\"white\" stroke-width=\"1\" /><text x=\"294.2581640625\" y=\"45.0\" dominant-baseline=\"middle\" text-anchor=\"middle\" font-size=\"14px\" font-family=\"Arial\">Y^x_0_0</text><rect x=\"259.517734375\" y=\"75.0\" width=\"69.48085937500001\" height=\"40\" stroke=\"black\" fill=\"white\" stroke-width=\"1\" /><text x=\"294.2581640625\" y=\"95.0\" dominant-baseline=\"middle\" text-anchor=\"middle\" font-size=\"14px\" font-family=\"Arial\">Y^x_1_0</text><rect x=\"259.517734375\" y=\"125.0\" width=\"69.48085937500001\" height=\"40\" stroke=\"black\" fill=\"white\" stroke-width=\"1\" /><text x=\"294.2581640625\" y=\"145.0\" dominant-baseline=\"middle\" text-anchor=\"middle\" font-size=\"14px\" font-family=\"Arial\">Y^x_2_0</text><rect x=\"259.517734375\" y=\"175.0\" width=\"69.48085937500001\" height=\"40\" stroke=\"black\" fill=\"white\" stroke-width=\"1\" /><text x=\"294.2581640625\" y=\"195.0\" dominant-baseline=\"middle\" text-anchor=\"middle\" font-size=\"14px\" font-family=\"Arial\">Y^x_3_0</text><rect x=\"348.99859375\" y=\"25.0\" width=\"69.710546875\" height=\"40\" stroke=\"black\" fill=\"white\" stroke-width=\"1\" /><text x=\"383.8538671875\" y=\"45.0\" dominant-baseline=\"middle\" text-anchor=\"middle\" font-size=\"14px\" font-family=\"Arial\">X^x_0_1</text><rect x=\"348.99859375\" y=\"75.0\" width=\"69.710546875\" height=\"40\" stroke=\"black\" fill=\"white\" stroke-width=\"1\" /><text x=\"383.8538671875\" y=\"95.0\" dominant-baseline=\"middle\" text-anchor=\"middle\" font-size=\"14px\" font-family=\"Arial\">X^x_1_1</text><rect x=\"348.99859375\" y=\"125.0\" width=\"69.710546875\" height=\"40\" stroke=\"black\" fill=\"white\" stroke-width=\"1\" /><text x=\"383.8538671875\" y=\"145.0\" dominant-baseline=\"middle\" text-anchor=\"middle\" font-size=\"14px\" font-family=\"Arial\">X^x_2_1</text><rect x=\"348.99859375\" y=\"175.0\" width=\"69.710546875\" height=\"40\" stroke=\"black\" fill=\"white\" stroke-width=\"1\" /><text x=\"383.8538671875\" y=\"195.0\" dominant-baseline=\"middle\" text-anchor=\"middle\" font-size=\"14px\" font-family=\"Arial\">X^x_3_1</text></svg>"
          },
          "metadata": {},
          "execution_count": 78
        }
      ]
    },
    {
      "cell_type": "code",
      "source": [
        "def data_encoding_circuit(qubits,rotations):\n",
        "  \n",
        "  circuit =  cirq.Circuit()\n",
        "  for i,q in enumerate(qubits):\n",
        "    circuit += cirq.ry(rotations[i])(q)\n",
        "  return circuit,rotations"
      ],
      "metadata": {
        "id": "qzsdOoFCp4JJ"
      },
      "execution_count": 79,
      "outputs": []
    },
    {
      "cell_type": "code",
      "source": [
        "class SwapTestLayer(tf.keras.layers.Layer):\n",
        "  def __init__(self,d_encoding_circuit,g_encoding_circuit,swap_test_circuit,swap_test_symbol_values,operators,use_sampled=False,name='Swap_Test_Layer'):\n",
        "    super(SwapTestLayer,self).__init__(name=name)\n",
        "    self.data_encoding_circuit_ = data_encoding_circuit\n",
        "    self.data_encoding_circuit,self.real_input_symbols = d_encoding_circuit\n",
        "    self.gen_encoding_circuit,self.gen_input_symbols = g_encoding_circuit\n",
        "    self.fidelity_circuit,self.param_symbols = swap_test_circuit\n",
        "    self.param_symbols_values = swap_test_symbol_values\n",
        "    self.operators = operators\n",
        "    self.use_sampled = use_sampled\n",
        "    self.main_name = name\n",
        "   \n",
        "  def get_config(self):\n",
        "    config = super().get_config().copy()\n",
        "    config.update({\n",
        "        'name':self.main_name,\n",
        "        'param_symbol_names':np.reshape(self.param_symbols,(-1,2))\n",
        "    })\n",
        "    return config\n",
        "  \n",
        "  def build(self,input_shape):\n",
        "    self.parameters = tf.Variable(self.param_symbols_values,\n",
        "                                  trainable=True,\n",
        "                                  dtype = tf.dtypes.float32)\n",
        "    self.full_circuit = tfq.layers.AddCircuit()(self.data_encoding_circuit,append=self.fidelity_circuit)\n",
        "    self.full_circuit = tfq.layers.AddCircuit()(self.gen_encoding_circuit,append=self.full_circuit)\n",
        "    self.symbol_names = tfq.util.get_circuit_symbols(tfq.from_tensor(self.full_circuit)[0])\n",
        "    \n",
        "  def call(self,inputs):\n",
        "    real_data_inputs = inputs[0]\n",
        "    generated_data_inputs = inputs[1]\n",
        "    batch_size = tf.shape(real_data_inputs)[0]\n",
        "    full_circuit_batch = tf.repeat(self.full_circuit,repeats=batch_size,name=self.main_name+'-tiled_fidelity_circuits') \n",
        "    tiled_parameters = tf.tile(tf.expand_dims(self.parameters,0),multiples=[batch_size,1])\n",
        "    joined_parameters = tf.concat([real_data_inputs,generated_data_inputs],axis=-1)\n",
        "    joined_parameters = tf.concat([joined_parameters,tiled_parameters],axis=-1)\n",
        "    # q_overlap = tf.function(quantum_overlap)\n",
        "    # overlap = quantum_overlap(self.data_encoding_circuit_,tf.reduce_mean(real_data_inputs,axis=0),tf.reduce_mean(generated_data_inputs,axis=0))\n",
        "    if not self.use_sampled:\n",
        "      return tfq.layers.Expectation()(full_circuit_batch,\n",
        "                                      symbol_names=self.symbol_names,\n",
        "                                      operators=self.operators,\n",
        "                                      symbol_values=joined_parameters)  #,overlap\n",
        "    else:\n",
        "      return tfq.layers.SampledExpectation()(full_circuit_batch,\n",
        "                                      symbol_names=self.symbol_names,\n",
        "                                      operators=self.operators,\n",
        "                                      symbol_values=joined_parameters,\n",
        "                                      repetitions=1000)  "
      ],
      "metadata": {
        "id": "OvyqOrZWp9la"
      },
      "execution_count": 80,
      "outputs": []
    },
    {
      "cell_type": "code",
      "source": [
        "def create_discriminator(real_data_inputs,gen_data_inputs,layers,filters,filter_size,stride,fidelity_test_params,optimizer,use_sampled=False,backend=None,name='Discriminator'):\n",
        "  d_qubits = cirq.GridQubit.rect(1,8)\n",
        "  data_qubits = d_qubits[:4]\n",
        "  generator_qubits = d_qubits[4:]\n",
        "  # normalized_conv_output_gen = tf.keras.Input(shape=(len(generator_qubits),),dtype=tf.dtypes.float32)    #generated data\n",
        "  input_symbols = sp.symbols('i_:'+str(len(d_qubits)))\n",
        "  swap_test_symbols = sp.symbols('x_:'+str(len(d_qubits)/2)+'_:'+str(2))\n",
        "  normalized_conv_output_gen = generate_data_improved(gen_data_inputs,layers=layers,filters=filters,filter_shape=filter_size,stride=stride,c_id='gen')\n",
        "  normalized_conv_output_real = generate_data_improved(real_data_inputs,layers=layers,filters=filters,filter_shape=filter_size,stride=stride,c_id='real')\n",
        "  fidelity_test = SwapTestLayer(\n",
        "                                d_encoding_circuit=data_encoding_circuit(qubits=data_qubits,rotations=input_symbols[:len(data_qubits)]),\n",
        "                                g_encoding_circuit=data_encoding_circuit(qubits=generator_qubits,rotations=input_symbols[len(generator_qubits):]),\n",
        "                                swap_test_circuit=variational_swap_test_circuit(qubits_a=data_qubits,qubits_b=generator_qubits,rotations=swap_test_symbols),\n",
        "                                swap_test_symbol_values=fidelity_test_params,\n",
        "                                operators=swap_test_op(data_qubits,generator_qubits) )\n",
        "  expectation_gen = fidelity_test([normalized_conv_output_real,normalized_conv_output_gen])   #,gen_overlap\n",
        "  # expectation_real = fidelity_test(normalized_conv_output_real,normalized_conv_output_real)  #,real_overlap\n",
        "  expectation_gen = tf.add(expectation_gen,tf.constant(0.000001)) #regularization\n",
        "  log_disc_dist = tf.math.log(tf.keras.backend.flatten(expectation_gen))\n",
        "  # log_real_dist = tf.math.log(tf.keras.backend.flatten(expectation_real))\n",
        "  final_output = -log_disc_dist\n",
        "\n",
        "  discriminator_model = tf.keras.Model(inputs=[real_data_inputs,gen_data_inputs],outputs=[final_output],name=name)    #expectation_gen,expectation_real,\n",
        "  disc_optimizer = optimizer(learning_rate=0.0001)  \n",
        "  disc_loss = lambda x,y: -tf.reduce_mean(y)\n",
        "  discriminator_model.compile(optimizer=disc_optimizer,loss=disc_loss)  #,loss_weights=[0,0,1]\n",
        "\n",
        "  return discriminator_model   "
      ],
      "metadata": {
        "id": "IadSllpFqEuT"
      },
      "execution_count": 81,
      "outputs": []
    },
    {
      "cell_type": "code",
      "source": [
        "real_data_inputs = tf.keras.Input(shape=(X_e_0.shape[1], X_e_0.shape[2], ),dtype=tf.dtypes.float32,name='Input_layer_real')\n",
        "gen_data_inputs = tf.keras.Input(shape=(X_e_0.shape[1], X_e_0.shape[2], ),dtype=tf.dtypes.float32,name='Input_layer_generated')\n",
        "# disc_layers = 2\n",
        "# disc_filter_size = [4,3,2]\n",
        "# disc_stride = [1,1,1]\n",
        "#######    #for improved\n",
        "disc_layers = [2,2]\n",
        "disc_filters = [1,1]\n",
        "disc_filter_shape = [(3,3),(2,2)]  \n",
        "disc_stride = [(2,2),(2,2)]\n",
        "#######\n",
        "discriminator_model = create_discriminator(                        #,gen_data,real_data \n",
        "    real_data_inputs=real_data_inputs,\n",
        "    gen_data_inputs=gen_data_inputs,\n",
        "    layers=disc_layers,\n",
        "    filters=disc_filters,\n",
        "    filter_size=disc_filter_shape,\n",
        "    stride=disc_stride,\n",
        "    fidelity_test_params= np.ndarray.flatten(np.array([0.5 , 1.0] * 4)),\n",
        "    optimizer=tf.keras.optimizers.Adam,\n",
        "    use_sampled=False,\n",
        "    backend=None,name='Discriminator_Model')"
      ],
      "metadata": {
        "id": "BfqQ43umqHOO"
      },
      "execution_count": 82,
      "outputs": []
    },
    {
      "cell_type": "code",
      "source": [
        "discriminator_model.summary()"
      ],
      "metadata": {
        "colab": {
          "base_uri": "https://localhost:8080/"
        },
        "id": "RVZbRdCPqJjn",
        "outputId": "2934ed5d-e359-447a-8dbd-c80ce437fb88"
      },
      "execution_count": 83,
      "outputs": [
        {
          "output_type": "stream",
          "name": "stdout",
          "text": [
            "Model: \"Discriminator_Model\"\n",
            "__________________________________________________________________________________________________\n",
            " Layer (type)                   Output Shape         Param #     Connected to                     \n",
            "==================================================================================================\n",
            " Input_layer_real (InputLayer)  [(None, 8, 8)]       0           []                               \n",
            "                                                                                                  \n",
            " Input_layer_generated (InputLa  [(None, 8, 8)]      0           []                               \n",
            " yer)                                                                                             \n",
            "                                                                                                  \n",
            " Quantum_Convolutional_Layer_wi  (None, 4, 4, 1)     864         ['Input_layer_real[0][0]']       \n",
            " th_padding1real (QConv2D_layer                                                                   \n",
            " )                                                                                                \n",
            "                                                                                                  \n",
            " Quantum_Convolutional_Layer_wi  (None, 4, 4, 1)     864         ['Input_layer_generated[0][0]']  \n",
            " th_padding1gen (QConv2D_layer)                                                                   \n",
            "                                                                                                  \n",
            " Quantum_Convolutional_Layer_wi  (None, 2, 2, 1)     96          ['Quantum_Convolutional_Layer_wit\n",
            " th_padding2real (QConv2D_layer                                  h_padding1real[0][0]']           \n",
            " )                                                                                                \n",
            "                                                                                                  \n",
            " Quantum_Convolutional_Layer_wi  (None, 2, 2, 1)     96          ['Quantum_Convolutional_Layer_wit\n",
            " th_padding2gen (QConv2D_layer)                                  h_padding1gen[0][0]']            \n",
            "                                                                                                  \n",
            " Intermediate_output_layer_real  (None, 4)           0           ['Quantum_Convolutional_Layer_wit\n",
            "  (Flatten)                                                      h_padding2real[0][0]']           \n",
            "                                                                                                  \n",
            " Intermediate_output_layer_gen   (None, 4)           0           ['Quantum_Convolutional_Layer_wit\n",
            " (Flatten)                                                       h_padding2gen[0][0]']            \n",
            "                                                                                                  \n",
            " Swap_Test_Layer (SwapTestLayer  (None, 1)           8           ['Intermediate_output_layer_real[\n",
            " )                                                               0][0]',                          \n",
            "                                                                  'Intermediate_output_layer_gen[0\n",
            "                                                                 ][0]']                           \n",
            "                                                                                                  \n",
            " tf.math.add_5 (TFOpLambda)     (None, 1)            0           ['Swap_Test_Layer[0][0]']        \n",
            "                                                                                                  \n",
            " tf.reshape_5 (TFOpLambda)      (None,)              0           ['tf.math.add_5[0][0]']          \n",
            "                                                                                                  \n",
            " tf.math.log_5 (TFOpLambda)     (None,)              0           ['tf.reshape_5[0][0]']           \n",
            "                                                                                                  \n",
            " tf.math.negative_2 (TFOpLambda  (None,)             0           ['tf.math.log_5[0][0]']          \n",
            " )                                                                                                \n",
            "                                                                                                  \n",
            "==================================================================================================\n",
            "Total params: 1,928\n",
            "Trainable params: 1,928\n",
            "Non-trainable params: 0\n",
            "__________________________________________________________________________________________________\n"
          ]
        }
      ]
    },
    {
      "cell_type": "code",
      "source": [
        "def create_generator(real_data_inputs,gen_data_inputs,layers,filters,filter_size,stride,fidelity_test_params,optimizer,use_sampled=False,backend=None,name='Generator'):\n",
        "  g_qubits = cirq.GridQubit.rect(1,8)\n",
        "  data_qubits = g_qubits[:4]\n",
        "  generator_qubits = g_qubits[4:]\n",
        "  normalized_conv_output_real = tf.keras.Input(shape=(len(generator_qubits),),dtype=tf.dtypes.float32) \n",
        "  input_symbols = sp.symbols('i_:'+str(len(g_qubits)))\n",
        "  swap_test_symbols = sp.symbols('x_:'+str(len(g_qubits)/2)+'_:'+str(2))\n",
        "  normalized_conv_output_gen = generate_data_improved(gen_data_inputs,layers=layers,filters=filters,filter_shape=filter_size,stride=stride,c_id='gen')\n",
        "  normalized_conv_output_real = generate_data_improved(real_data_inputs,layers=layers,filters=filters,filter_shape=filter_size,stride=stride,c_id='real')\n",
        "  fidelity_test = SwapTestLayer(\n",
        "                                d_encoding_circuit=data_encoding_circuit(qubits=data_qubits,rotations=input_symbols[:len(data_qubits)]),\n",
        "                                g_encoding_circuit=data_encoding_circuit(qubits=generator_qubits,rotations=input_symbols[len(generator_qubits):]),\n",
        "                                swap_test_circuit=variational_swap_test_circuit(qubits_a=data_qubits,qubits_b=generator_qubits,rotations=swap_test_symbols),\n",
        "                                swap_test_symbol_values=fidelity_test_params,\n",
        "                                operators=swap_test_op(data_qubits,generator_qubits) )\n",
        "  expectation_gen = fidelity_test([normalized_conv_output_real,normalized_conv_output_gen])\n",
        "  expectation_gen = tf.add(expectation_gen,tf.constant(0.000001))\n",
        "  log_gen_dist = tf.math.log(tf.keras.backend.flatten(expectation_gen))\n",
        "  generator_model = tf.keras.Model(inputs=[real_data_inputs,gen_data_inputs],outputs=[expectation_gen,log_gen_dist],name=name)\n",
        "  gen_optimizer = optimizer(learning_rate=0.0001)  \n",
        "  gen_loss = lambda x,y: tf.reduce_mean(y)\n",
        "  generator_model.compile(optimizer=gen_optimizer,loss=gen_loss,loss_weights=[0,1])\n",
        "\n",
        "  return generator_model"
      ],
      "metadata": {
        "id": "VYV7PF16qLUf"
      },
      "execution_count": 84,
      "outputs": []
    },
    {
      "cell_type": "code",
      "source": [
        "real_data_inputs = tf.keras.Input(shape=(X_e_0.shape[1], X_e_0.shape[2], ),dtype=tf.dtypes.float32,name='Input_layer_real')\n",
        "gen_data_inputs = tf.keras.Input(shape=(X_e_0.shape[1], X_e_0.shape[2], ),dtype=tf.dtypes.float32,name='Input_layer_generated')\n",
        "# gen_layers = 2\n",
        "# gen_filter_size = [4,3,2]\n",
        "# gen_stride = [1,1,1]\n",
        "######\n",
        "gen_layers = [2,2]\n",
        "gen_filters = [1,1]\n",
        "gen_filter_shape = [(3,3),(2,2)]  \n",
        "gen_stride = [(2,2),(2,2)]\n",
        "######\n",
        "generator_model = create_generator(\n",
        "    real_data_inputs=real_data_inputs,\n",
        "    gen_data_inputs=gen_data_inputs,\n",
        "    layers=gen_layers,\n",
        "    filters=gen_filters,\n",
        "    filter_size=gen_filter_shape,\n",
        "    stride=gen_stride,\n",
        "    fidelity_test_params= np.ndarray.flatten(np.array([0.5 , 1.0] * 4)),\n",
        "    optimizer=tf.keras.optimizers.Adam,\n",
        "    use_sampled=False,\n",
        "    backend=None,name='Generator_Model')"
      ],
      "metadata": {
        "id": "eFix35uVqOU0"
      },
      "execution_count": 85,
      "outputs": []
    },
    {
      "cell_type": "code",
      "source": [
        "generator_model.get_layer('Swap_Test_Layer').input"
      ],
      "metadata": {
        "colab": {
          "base_uri": "https://localhost:8080/"
        },
        "id": "z8NDUh2FqRC4",
        "outputId": "99bdcb0e-fc15-40d6-f03c-6437924d43b8"
      },
      "execution_count": 86,
      "outputs": [
        {
          "output_type": "execute_result",
          "data": {
            "text/plain": [
              "[<KerasTensor: shape=(None, 4) dtype=float32 (created by layer 'Intermediate_output_layer_real')>,\n",
              " <KerasTensor: shape=(None, 4) dtype=float32 (created by layer 'Intermediate_output_layer_gen')>]"
            ]
          },
          "metadata": {},
          "execution_count": 86
        }
      ]
    },
    {
      "cell_type": "code",
      "source": [
        "def quantum_state_overlap(generator_model_,real_data,random_data):\n",
        "  # intermediate_output_gen = generator_model_.get_layer('Intermediate_output_layer_gen').output\n",
        "  intermediate_output_gen = generator_model_.get_layer('Swap_Test_Layer').input[1]\n",
        "  # intermediate_output_real = generator_model_.get_layer('Intermediate_output_layer_real').output\n",
        "  intermediate_output_real = generator_model_.get_layer('Swap_Test_Layer').input[0]\n",
        "  generator_model_1 = tf.keras.models.Model(inputs=[generator_model_.input],outputs=[intermediate_output_real,intermediate_output_gen])\n",
        "  random_data_samples = generator_model_1.predict([real_data,random_data])\n",
        "  rotations_r = sp.symbols('real_x_:'+str(intermediate_output_real.shape[1]))\n",
        "  rotations_g = sp.symbols('gen_x_:'+str(intermediate_output_gen.shape[1]))\n",
        "  circuit1 =  cirq.Circuit()\n",
        "  circuit2 = cirq.Circuit()\n",
        "  qubits1 = cirq.GridQubit.rect(1,4)\n",
        "  qubits2 = cirq.GridQubit.rect(1,4)\n",
        "  for i,q in enumerate(qubits1):\n",
        "    circuit1 += cirq.ry(rotations_r[i])(q)\n",
        "  for i,q in enumerate(qubits2):\n",
        "    circuit2 += cirq.ry(rotations_g[i])(q)\n",
        "  # real_state = tfq.layers.State()(circuit1,symbol_names=rotations_r,symbol_values=tf.reshape(tf.reduce_mean(random_data_samples[0],axis=0),(1,random_data_samples[0].shape[1])))\n",
        "  real_state = tfq.layers.State()(circuit1,symbol_names=rotations_r,symbol_values=np.mean(random_data_samples[0],axis=0).reshape(1,len(random_data_samples[0][0])))\n",
        "  real_state = real_state.to_tensor(default_value=0).numpy()\n",
        "  # gen_state = tfq.layers.State()(circuit2,symbol_names=rotations_g,symbol_values=tf.reshape(tf.reduce_mean(random_data_samples[1],axis=0),(1,random_data_samples[1].shape[1])))\n",
        "  gen_state = tfq.layers.State()(circuit2,symbol_names=rotations_g,symbol_values=np.mean(random_data_samples[1],axis=0).reshape(1,len(random_data_samples[0][0])))\n",
        "  gen_state = gen_state.to_tensor(default_value=0).numpy()\n",
        "  # gen_state = tf.reshape(gen_state.to_tensor(default_value=0),(random_data_samples[1].shape[1],1))\n",
        "  # state_overlap = tf.tensordot(real_state,gen_state,1)\n",
        "  state_overlap = np.dot(real_state[0],gen_state[0])\n",
        "  return state_overlap"
      ],
      "metadata": {
        "id": "g8rTuDgRqTj3"
      },
      "execution_count": 87,
      "outputs": []
    },
    {
      "cell_type": "code",
      "source": [
        "class EntangledQGAN():\n",
        "  def __init__(self, filters,filter_size,stride,layers,\n",
        "               generator_model, discriminator_model, fidelity_test_params=None,\n",
        "               use_sampled=False,backend=None,name='QGAN_Model'):\n",
        "    self.layers = layers\n",
        "    self.filters = filters\n",
        "    self.filter_size = filter_size\n",
        "    self.stride = stride\n",
        "    self.d_loss = []\n",
        "    self.g_loss = []\n",
        "    self.param_history = []\n",
        "    self.state_overlap_l = []\n",
        "    self.generator_model = generator_model\n",
        "    self.discriminator_model = discriminator_model\n",
        "    self.use_sampled = use_sampled\n",
        "  \n",
        "  def train(self,real_data_inputs, generator_data_inputs, batch_size, g_epochs, d_epochs, n_episodes):\n",
        "    real_data = tf.keras.Input(shape=(real_data_inputs.shape[1], real_data_inputs.shape[2], ),dtype=tf.dtypes.float32,name='Input_layer_real')\n",
        "    gen_data = tf.keras.Input(shape=(generator_data_inputs.shape[1], generator_data_inputs.shape[2], ),dtype=tf.dtypes.float32,name='Input_layer_generated')\n",
        "    for episode in range(n_episodes):\n",
        "      self.param_history.append(discriminator_model.get_layer('Swap_Test_Layer').get_weights())\n",
        "      d_history = discriminator_model.fit(x=[real_data_inputs,gen_data_inputs],\n",
        "                                          y=[tf.zeros_like(real_data_inputs,dtype=tf.dtypes.float32),\n",
        "                                             tf.zeros_like(real_data_inputs,dtype=tf.dtypes.float32),\n",
        "                                             tf.zeros_like(real_data_inputs,dtype=tf.dtypes.float32)],\n",
        "                                             epochs=d_epochs,batch_size=batch_size,verbose=0)\n",
        "      self.d_loss.append(d_history.history['loss'])\n",
        "      updated_fidelity_test_params = np.array(discriminator_model.get_layer('Swap_Test_Layer').get_weights())\n",
        "      self.generator_model.get_layer('Swap_Test_Layer').set_weights(np.reshape(updated_fidelity_test_params,(-1,8)))\n",
        "\n",
        "      g_history = generator_model.fit(x=[real_data_inputs,gen_data_inputs],\n",
        "                                      y=[tf.zeros_like(real_data_inputs,dtype=tf.dtypes.float32),\n",
        "                                        tf.zeros_like(real_data_inputs,dtype=tf.dtypes.float32)],\n",
        "                                        epochs=g_epochs,batch_size=batch_size,verbose=0)\n",
        "      self.g_loss.append(g_history.history['loss'])\n",
        "\n",
        "      state_overlap = quantum_state_overlap(self.generator_model,real_data_inputs,generator_data_inputs)\n",
        "      self.state_overlap_l += [state_overlap]\n",
        "      print(f'Step = {episode}:')\n",
        "      print(f'discriminator_loss={self.d_loss[-1]}')\n",
        "      print(f'generator_loss={self.g_loss[-1]}')\n",
        "      print(f'overlap={self.state_overlap}')\n",
        "      print('-'*50) \n",
        "\n",
        "    return self.g_loss,self.d_loss,self.param_history,self.state_overlap_l   \n",
        "\n",
        "  def create_images(self,generator_model_,real_data,random_data):\n",
        "    intermediate_output = self.generator_model.get_layer('Quantum_Convolutional_Layer_with_padding2gen').output\n",
        "    generator_model_1 = tf.keras.models.Model(inputs=[self.generator_model_.input],outputs=[intermediate_output])\n",
        "    print(\"Generating samples\")\n",
        "    samples = generator_model_1.predict([real_data,random_data])\n",
        "    print(\"Applying PCA to real data\")\n",
        "    flattened_real_data = real_data.reshape(-1,real_data.shape[1]*real_data.shape[2])\n",
        "    pca = PCA(n_components=4)\n",
        "    pca.fit(X_flatten)\n",
        "    print(\"Applying inverse PCA to generated samples\")\n",
        "    X_pca_inv_transform = pca.inverse_transform([tf.keras.backend.flatten(samples_) for samples_ in samples])\n",
        "    X_pca_inv_transform = np.reshape(X_pca_inv_transform,real_data.shape)\n",
        "    print(\"Generated Images:\")\n",
        "    fig = plt.figure(figsize=(26,18))\n",
        "    gs = gridspec.GridSpec(ncols=8, nrows=8, figure=fig)\n",
        "    for i in range(8):\n",
        "      ax = plt.subplot(gs[i//4, 4 + i%4])\n",
        "      plt.imshow(X_pca_inv_transform[i])"
      ],
      "metadata": {
        "id": "-vMQ3fxhqb-d"
      },
      "execution_count": 88,
      "outputs": []
    },
    {
      "cell_type": "code",
      "source": [
        "def qgan_train(real_data_inputs,gen_data_inputs,filters,\n",
        "               filter_size,stride,\n",
        "               batch_size,g_epochs,d_epochs,n_episodes,layers,\n",
        "               use_sampled=False,backend=None,name='QGAN_Model'):\n",
        "  \n",
        "  real_data = tf.keras.Input(shape=(real_data_inputs.shape[1], real_data_inputs.shape[2], ),dtype=tf.dtypes.float32,name='Input_layer_real')\n",
        "  gen_data = tf.keras.Input(shape=(gen_data_inputs.shape[1], gen_data_inputs.shape[2], ),dtype=tf.dtypes.float32,name='Input_layer_generated')\n",
        "  # fidelity_test_params = np.ndarray.flatten(np.array([[0.5 , 1.0]] * 4))\n",
        "  # fidelity_test_params = np.array([0.0]*8)\n",
        "  fidelity_test_params = tf.random.normal([8,])\n",
        "  generator_model = create_generator(real_data_inputs=real_data,\n",
        "                                     gen_data_inputs=gen_data,\n",
        "                                     layers=layers,\n",
        "                                     filters=filters,\n",
        "                                     filter_size=filter_size,\n",
        "                                     stride=stride,\n",
        "                                     fidelity_test_params=fidelity_test_params ,\n",
        "                                     optimizer=tf.keras.optimizers.Adam,\n",
        "                                     use_sampled=False,\n",
        "                                     backend=None,name='Generator_Model')\n",
        "  \n",
        "  discriminator_model = create_discriminator(real_data_inputs=real_data,\n",
        "                                     gen_data_inputs=gen_data,\n",
        "                                     layers=layers,\n",
        "                                     filter_size=filter_size,\n",
        "                                     filters=filters,\n",
        "                                     stride=stride,\n",
        "                                     fidelity_test_params=fidelity_test_params,\n",
        "                                     optimizer=tf.keras.optimizers.Adam,\n",
        "                                     use_sampled=False,\n",
        "                                     backend=None,name='Discriminator_Model')\n",
        "  d_loss = []\n",
        "  g_loss = []\n",
        "  param_history = []\n",
        "  state_overlap_l = []  \n",
        "  for episode in range(n_episodes):\n",
        "    param_history.append(discriminator_model.get_layer('Swap_Test_Layer').get_weights())\n",
        "    d_history = discriminator_model.fit(x=[real_data_inputs,gen_data_inputs],\n",
        "                                        y=[tf.zeros_like(real_data_inputs,dtype=tf.dtypes.float32),\n",
        "                                           tf.zeros_like(real_data_inputs,dtype=tf.dtypes.float32),\n",
        "                                           tf.zeros_like(real_data_inputs,dtype=tf.dtypes.float32)],\n",
        "                                        epochs=d_epochs,batch_size=batch_size,verbose=0)\n",
        "    d_loss.append(d_history.history['loss'])\n",
        "    updated_fidelity_test_params = np.array(discriminator_model.get_layer('Swap_Test_Layer').get_weights())\n",
        "    generator_model.get_layer('Swap_Test_Layer').set_weights(np.reshape(updated_fidelity_test_params,(-1,8)))\n",
        "\n",
        "    g_history = generator_model.fit(x=[real_data_inputs,gen_data_inputs],\n",
        "                                    y=[tf.zeros_like(real_data_inputs,dtype=tf.dtypes.float32),\n",
        "                                      tf.zeros_like(real_data_inputs,dtype=tf.dtypes.float32)],\n",
        "                                    epochs=g_epochs,batch_size=batch_size,verbose=0)\n",
        "    g_loss.append(g_history.history['loss'])\n",
        "\n",
        "    state_overlap = quantum_state_overlap(generator_model,real_data_inputs,gen_data_inputs)\n",
        "    state_overlap_l += [state_overlap]\n",
        "    print(f'Step = {episode}:')\n",
        "    print(f'discriminator_loss={d_loss[-1]}')\n",
        "    print(f'generator_loss={g_loss[-1]}')\n",
        "    print(f'overlap={state_overlap}')\n",
        "    print('-'*50)\n",
        "\n",
        "  return g_loss,d_loss,param_history,state_overlap_l"
      ],
      "metadata": {
        "id": "f_Gj_U06qf5q"
      },
      "execution_count": 89,
      "outputs": []
    },
    {
      "cell_type": "code",
      "source": [
        "z_shape = tf.shape(X_e_0)\n",
        "z = tf.random.normal(z_shape)\n",
        "print(tf.shape(z))"
      ],
      "metadata": {
        "colab": {
          "base_uri": "https://localhost:8080/"
        },
        "id": "HF8k_ogMqlWs",
        "outputId": "e22876c1-f4d5-4a5a-f034-fd2c8199973e"
      },
      "execution_count": 90,
      "outputs": [
        {
          "output_type": "stream",
          "name": "stdout",
          "text": [
            "tf.Tensor([100   8   8], shape=(3,), dtype=int32)\n"
          ]
        }
      ]
    },
    {
      "cell_type": "code",
      "source": [
        "layers = [2,2]\n",
        "filters = [1,1]\n",
        "filter_size = [(3,3),(2,2)]  \n",
        "stride = [(2,2),(2,2)]\n",
        "batch_size = 20\n",
        "g_epochs = 5\n",
        "d_epochs = 1\n",
        "n_episodes = 10\n",
        "\n",
        "print('Model Training Initiated:')\n",
        "gen_per,disc_per,param_history,state_overlap = qgan_train(X_e_0 , z ,filters=filters, layers=layers,\n",
        "                                            filter_size = filter_size,stride = stride,batch_size = batch_size,\n",
        "                                            g_epochs = g_epochs,d_epochs = d_epochs,n_episodes = n_episodes)"
      ],
      "metadata": {
        "colab": {
          "base_uri": "https://localhost:8080/"
        },
        "id": "T-5JuOmyqnLR",
        "outputId": "1c42478f-991f-42ad-c1da-fa9639d745b4"
      },
      "execution_count": 91,
      "outputs": [
        {
          "output_type": "stream",
          "name": "stdout",
          "text": [
            "Model Training Initiated:\n",
            "Step = 0:\n",
            "discriminator_loss=[-1.2571330070495605]\n",
            "generator_loss=[-0.5917702317237854, -0.5961382389068604, -0.6005285382270813, -0.6049472093582153, -0.6093922257423401]\n",
            "overlap=(0.8598515391349792+0j)\n",
            "--------------------------------------------------\n",
            "Step = 1:\n",
            "discriminator_loss=[-1.2622586488723755]\n",
            "generator_loss=[-0.6102749705314636, -0.6147367358207703, -0.6192245483398438, -0.6237461566925049, -0.6282978653907776]\n",
            "overlap=(0.8603417873382568+0j)\n",
            "--------------------------------------------------\n",
            "Step = 2:\n",
            "discriminator_loss=[-1.2673755884170532]\n",
            "generator_loss=[-0.6290620565414429, -0.6336336731910706, -0.638235330581665, -0.642869234085083, -0.6475386023521423]\n",
            "overlap=(0.8610759377479553+0j)\n",
            "--------------------------------------------------\n",
            "Step = 3:\n",
            "discriminator_loss=[-1.272484540939331]\n",
            "generator_loss=[-0.6481549739837646, -0.6528429985046387, -0.6575636267662048, -0.6623184680938721, -0.6671090722084045]\n",
            "overlap=(0.8621806502342224+0j)\n",
            "--------------------------------------------------\n",
            "Step = 4:\n",
            "discriminator_loss=[-1.2775890827178955]\n",
            "generator_loss=[-0.6675654649734497, -0.6723785400390625, -0.6772218346595764, -0.6821022629737854, -0.6870233416557312]\n",
            "overlap=(0.8635872602462769+0j)\n",
            "--------------------------------------------------\n",
            "Step = 5:\n",
            "discriminator_loss=[-1.282682180404663]\n",
            "generator_loss=[-0.6873106360435486, -0.692250669002533, -0.697221577167511, -0.7022309899330139, -0.7072815895080566]\n",
            "overlap=(0.8651473522186279+0j)\n",
            "--------------------------------------------------\n",
            "Step = 6:\n",
            "discriminator_loss=[-1.287771463394165]\n",
            "generator_loss=[-0.7073959112167358, -0.7124630212783813, -0.7175649404525757, -0.7227055430412292, -0.7278886437416077]\n",
            "overlap=(0.8667810559272766+0j)\n",
            "--------------------------------------------------\n",
            "Step = 7:\n",
            "discriminator_loss=[-1.292848825454712]\n",
            "generator_loss=[-0.7278161644935608, -0.7330179810523987, -0.7382515668869019, -0.7435230016708374, -0.7488401532173157]\n",
            "overlap=(0.8684616684913635+0j)\n",
            "--------------------------------------------------\n",
            "Step = 8:\n",
            "discriminator_loss=[-1.297921895980835]\n",
            "generator_loss=[-0.7485777139663696, -0.7539089918136597, -0.7592780590057373, -0.7646833062171936, -0.7701350450515747]\n",
            "overlap=(0.8701817989349365+0j)\n",
            "--------------------------------------------------\n",
            "Step = 9:\n",
            "discriminator_loss=[-1.3029839992523193]\n",
            "generator_loss=[-0.7696705460548401, -0.7751385569572449, -0.7806420922279358, -0.7861838340759277, -0.7917717695236206]\n",
            "overlap=(0.8719301223754883+0j)\n",
            "--------------------------------------------------\n"
          ]
        }
      ]
    },
    {
      "cell_type": "code",
      "source": [
        "discriminator_model.non_trainable_variables\n",
        "discriminator_model.outputs"
      ],
      "metadata": {
        "colab": {
          "base_uri": "https://localhost:8080/"
        },
        "id": "9kCmA7XPqvGm",
        "outputId": "d017c61c-2d13-4d5f-d12c-ed34c45c7165"
      },
      "execution_count": 95,
      "outputs": [
        {
          "output_type": "execute_result",
          "data": {
            "text/plain": [
              "[<KerasTensor: shape=(None,) dtype=float32 (created by layer 'tf.math.negative_2')>]"
            ]
          },
          "metadata": {},
          "execution_count": 95
        }
      ]
    },
    {
      "cell_type": "code",
      "source": [
        "print(np.ndarray.flatten(np.array(gen_per)))\n",
        "print(np.ndarray.flatten(np.array(disc_per)))\n",
        "gen_per = np.ndarray.flatten(np.array(gen_per))\n",
        "disc_per = np.ndarray.flatten(np.array(disc_per))"
      ],
      "metadata": {
        "colab": {
          "base_uri": "https://localhost:8080/"
        },
        "id": "whq-sp9asJnj",
        "outputId": "f96dccfe-d09b-4414-d417-8412398c04a4"
      },
      "execution_count": 96,
      "outputs": [
        {
          "output_type": "stream",
          "name": "stdout",
          "text": [
            "[-0.59177023 -0.59613824 -0.60052854 -0.60494721 -0.60939223 -0.61027497\n",
            " -0.61473674 -0.61922455 -0.62374616 -0.62829787 -0.62906206 -0.63363367\n",
            " -0.63823533 -0.64286923 -0.6475386  -0.64815497 -0.652843   -0.65756363\n",
            " -0.66231847 -0.66710907 -0.66756546 -0.67237854 -0.67722183 -0.68210226\n",
            " -0.68702334 -0.68731064 -0.69225067 -0.69722158 -0.70223099 -0.70728159\n",
            " -0.70739591 -0.71246302 -0.71756494 -0.72270554 -0.72788864 -0.72781616\n",
            " -0.73301798 -0.73825157 -0.743523   -0.74884015 -0.74857771 -0.75390899\n",
            " -0.75927806 -0.76468331 -0.77013505 -0.76967055 -0.77513856 -0.78064209\n",
            " -0.78618383 -0.79177177]\n",
            "[-1.25713301 -1.26225865 -1.26737559 -1.27248454 -1.27758908 -1.28268218\n",
            " -1.28777146 -1.29284883 -1.2979219  -1.302984  ]\n"
          ]
        }
      ]
    },
    {
      "cell_type": "code",
      "source": [
        "import matplotlib.gridspec as gridspec\n",
        "\n",
        "def plot_loss(gen_loss,epochs):\n",
        "  fig = plt.figure(figsize=(16,9))\n",
        "  gs = gridspec.GridSpec(ncols=8, nrows=8, figure=fig)\n",
        "  epochs = [i for i in range(len(gen_loss))]\n",
        "  epoch = epochs[-1]\n",
        "  # plot loss curve\n",
        "  ax_loss = plt.subplot(gs[:,:4])\n",
        "  ax_loss.set_xlim(0, 1.1*epoch)\n",
        "  ax_loss.plot(epochs, np.mean(gen_loss,axis=1), label=\"Generator\")\n",
        "  # ax_loss.plot(epochs, np.mean(disc_loss,axis=1), label=\"Discriminator\")\n",
        "  ax_loss.set_xlabel('Epoch', fontsize=20)\n",
        "  ax_loss.set_ylabel('Loss', fontsize=20)\n",
        "  ax_loss.grid(True)\n",
        "  ax_loss.legend(fontsize=15)"
      ],
      "metadata": {
        "id": "KxdmuA82sUJF"
      },
      "execution_count": 108,
      "outputs": []
    },
    {
      "cell_type": "code",
      "source": [
        "def plot_state_overlap(overlap,epochs):\n",
        "  fig = plt.figure(figsize=(16,9))\n",
        "  gs = gridspec.GridSpec(ncols=8, nrows=8, figure=fig)\n",
        "  epochs = [i for i in range(epochs)]\n",
        "  epoch = epochs[-1]\n",
        "  ax_loss = plt.subplot(gs[:,:4])\n",
        "  ax_loss.set_xlim(0, 1.1*epoch)\n",
        "  ax_loss.plot(epochs, overlap, label=\"State Overlap\")\n",
        "  ax_loss.set_xlabel('Epoch', fontsize=20)\n",
        "  ax_loss.set_ylabel('Overlap', fontsize=20)\n",
        "  ax_loss.grid(True)\n",
        "  ax_loss.legend(fontsize=15)"
      ],
      "metadata": {
        "id": "1TtWtUeIsXw6"
      },
      "execution_count": 98,
      "outputs": []
    },
    {
      "cell_type": "code",
      "source": [
        "plot_state_overlap(state_overlap,epochs=n_episodes)\n"
      ],
      "metadata": {
        "colab": {
          "base_uri": "https://localhost:8080/",
          "height": 595
        },
        "id": "_Qwx4t67sZry",
        "outputId": "c6a3ffd5-813b-46fd-f9de-535f6b005492"
      },
      "execution_count": 110,
      "outputs": [
        {
          "output_type": "stream",
          "name": "stderr",
          "text": [
            "/usr/local/lib/python3.7/dist-packages/matplotlib/cbook/__init__.py:1317: ComplexWarning: Casting complex values to real discards the imaginary part\n",
            "  return np.asarray(x, float)\n"
          ]
        },
        {
          "output_type": "display_data",
          "data": {
            "text/plain": [
              "<Figure size 1152x648 with 1 Axes>"
            ],
            "image/png": "[encoded data removed]"
          },
          "metadata": {
            "needs_background": "light"
          }
        }
      ]
    },
    {
      "cell_type": "code",
      "source": [
        "def create_images(generator_model_,real_data,random_data):\n",
        "  intermediate_output = generator_model_.get_layer('Swap_Test_Layer').input[1]\n",
        " \n",
        "  generator_model_1 = tf.keras.models.Model(inputs=[generator_model_.input],outputs=[intermediate_output])\n",
        " \n",
        "  random_data_samples = generator_model_1.predict([real_data,random_data])\n",
        " \n",
        "  return random_data_samples"
      ],
      "metadata": {
        "id": "8PKI85ejsbE8"
      },
      "execution_count": 111,
      "outputs": []
    },
    {
      "cell_type": "code",
      "source": [
        "samples = create_images(generator_model,X_e_0,z)"
      ],
      "metadata": {
        "id": "PorbYI1Pwn9V"
      },
      "execution_count": 112,
      "outputs": []
    },
    {
      "cell_type": "code",
      "source": [
        "from sklearn.decomposition import PCA\n",
        "X_flatten = X_e_0.reshape(-1,X_e_0.shape[1]*X_e_0.shape[2])\n",
        "pca = PCA(n_components=4)\n",
        "pca.fit(X_flatten)"
      ],
      "metadata": {
        "colab": {
          "base_uri": "https://localhost:8080/"
        },
        "id": "LuJVV4bJwo_K",
        "outputId": "beacdc83-93ed-4a14-b9e3-70a2d3ec18c7"
      },
      "execution_count": 113,
      "outputs": [
        {
          "output_type": "execute_result",
          "data": {
            "text/plain": [
              "PCA(n_components=4)"
            ]
          },
          "metadata": {},
          "execution_count": 113
        }
      ]
    },
    {
      "cell_type": "code",
      "source": [
        "X_pca_inv_transform = pca.inverse_transform([tf.keras.backend.flatten(samples_) for samples_ in samples])"
      ],
      "metadata": {
        "id": "2oMq3Bqjws3K"
      },
      "execution_count": 115,
      "outputs": []
    },
    {
      "cell_type": "code",
      "source": [
        "X_pca_inv_transform = np.reshape(X_pca_inv_transform,X_e_0.shape)\n",
        "print(X_pca_inv_transform.shape)"
      ],
      "metadata": {
        "colab": {
          "base_uri": "https://localhost:8080/"
        },
        "id": "TylHknD2wuj_",
        "outputId": "a275d707-ffde-4bd0-a3e9-2d8e626980f1"
      },
      "execution_count": 116,
      "outputs": [
        {
          "output_type": "stream",
          "name": "stdout",
          "text": [
            "(100, 8, 8)\n"
          ]
        }
      ]
    },
    {
      "cell_type": "code",
      "source": [
        "plt.imshow(X_pca_inv_transform[6,:,:])"
      ],
      "metadata": {
        "colab": {
          "base_uri": "https://localhost:8080/",
          "height": 282
        },
        "id": "-zHaO3dnwwu2",
        "outputId": "65db8fd1-55ae-4483-bf7b-11d5d9444093"
      },
      "execution_count": 118,
      "outputs": [
        {
          "output_type": "execute_result",
          "data": {
            "text/plain": [
              "<matplotlib.image.AxesImage at 0x7f26bc48eed0>"
            ]
          },
          "metadata": {},
          "execution_count": 118
        },
        {
          "output_type": "display_data",
          "data": {
            "text/plain": [
              "<Figure size 432x288 with 1 Axes>"
            ],
            "image/png": "[encoded data removed]"
          },
          "metadata": {
            "needs_background": "light"
          }
        }
      ]
    },
    {
      "cell_type": "code",
      "source": [
        "plt.imshow(X_e_0[6,:,:])"
      ],
      "metadata": {
        "colab": {
          "base_uri": "https://localhost:8080/",
          "height": 282
        },
        "id": "wqsEWasOwyfR",
        "outputId": "3a6c19fe-7493-4f66-c6f4-2a2913e23248"
      },
      "execution_count": 119,
      "outputs": [
        {
          "output_type": "execute_result",
          "data": {
            "text/plain": [
              "<matplotlib.image.AxesImage at 0x7f26bc57e110>"
            ]
          },
          "metadata": {},
          "execution_count": 119
        },
        {
          "output_type": "display_data",
          "data": {
            "text/plain": [
              "<Figure size 432x288 with 1 Axes>"
            ],
            "image/png": "[encoded data removed]"
          },
          "metadata": {
            "needs_background": "light"
          }
        }
      ]
    },
    {
      "cell_type": "code",
      "source": [
        "fig = plt.figure(figsize=(26,18))\n",
        "gs = gridspec.GridSpec(ncols=8, nrows=8, figure=fig)\n",
        "for i in range(8):\n",
        "  ax = plt.subplot(gs[i//4, 4 + i%4])\n",
        "  plt.imshow(X_pca_inv_transform[i])"
      ],
      "metadata": {
        "colab": {
          "base_uri": "https://localhost:8080/",
          "height": 277
        },
        "id": "CIOZrfCsw1px",
        "outputId": "e83e5f70-d3e0-4b96-d999-8cfa0a99e1f5"
      },
      "execution_count": 120,
      "outputs": [
        {
          "output_type": "display_data",
          "data": {
            "text/plain": [
              "<Figure size 1872x1296 with 8 Axes>"
            ],
            "image/png": "[encoded data removed]"
          },
          "metadata": {
            "needs_background": "light"
          }
        }
      ]
    },
    {
      "cell_type": "code",
      "source": [],
      "metadata": {
        "id": "ZY1FODy7w4GE"
      },
      "execution_count": null,
      "outputs": []
    }
  ]
}