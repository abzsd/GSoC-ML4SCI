{
 "cells": [
  {
   "cell_type": "markdown",
   "id": "4b23575c-e3d1-4af9-8543-2d7fce80bc37",
   "metadata": {},
   "source": [
    "# cuQuantum-Appliance: Google Cirq accelerated with cuQuantum\n",
    "\n",
    "In this tutorial, we'll learn how to simulate quantum circuits constructed with Google Cirq on GPUs using cuQuantum-accelerated qsim.\n",
    "\n",
    "_Cirq_ is a popular python framework for programming quantum computers circuit by Google's QuantumAI team. It provides an extensive set of gates, algorithms and examples and can execute quantum algorithms either on simulator backends or quantum hardware.\n",
    "\n",
    "_qsim_ is Google's fast state vector simulator for Cirq. For fast GPU simulations it uses the NVIDIA cuQuantum SDK.\n",
    "\n",
    "The _NVIDIA cuQuantum Appliance_ docker image provides a ready-to-go image containing all components and allows GPU-accelerated simulations on all NVIDIA platforms with Volta-architecture or newer.\n",
    "\n",
    "More information on the different components can be found on:\n",
    "* NVIDIA cuQuantum Appliance: https://catalog.ngc.nvidia.com/orgs/nvidia/containers/cuquantum-appliance\n",
    "* NVIDIA cuQuantum SDK: https://developer.nvidia.com/cuquantum-sdk\n",
    "* Google Cirq: https://quantumai.google/cirq\n",
    "* Google qsim: https://quantumai.google/qsim"
   ]
  },
  {
   "cell_type": "markdown",
   "id": "1e92308c-dbf4-4c04-a7e4-1d159ea4901a",
   "metadata": {},
   "source": [
    "## Setup\n",
    "\n",
    "As first step, we load the Cirq and qsim python modules"
   ]
  },
  {
   "cell_type": "code",
   "execution_count": null,
   "id": "1b22b834",
   "metadata": {},
   "outputs": [],
   "source": [
    "import cirq\n",
    "import qsimcirq"
   ]
  },
  {
   "cell_type": "markdown",
   "id": "57d495e6-b3ba-4966-bd20-35183e2fe355",
   "metadata": {},
   "source": [
    "## Building a circuit\n",
    "\n",
    "As warmup, we build a circuit to construct a 5-qubit GHZ state. A GHZ state is a non-classical state which entangles all qubits. It is defined as\n",
    "\n",
    "$|GHZ \\rangle = \\frac{1}{\\sqrt{2}} \\left(|00000 \\rangle + |11111 \\rangle \\right)$\n",
    "    \n",
    "At first we create a new quantum circuit in Cirq and a list of 5 qubits. "
   ]
  },
  {
   "cell_type": "code",
   "execution_count": null,
   "id": "bc75f27e-97da-4d92-aeb6-8ea533f8b175",
   "metadata": {},
   "outputs": [],
   "source": [
    "c = cirq.Circuit()\n",
    "qubits = cirq.LineQubit.range(5)"
   ]
  },
  {
   "cell_type": "markdown",
   "id": "21826985-5dca-468c-83b9-36ca95ce353f",
   "metadata": {},
   "source": [
    "We assume all qubits will be in state $0$, i.e., the system is in state $|00000\\rangle$.\n",
    "\n",
    "In our circuit, we first apply a Hadamard gate on qubit 0 putting it into state\n",
    "$ |\\psi_0 \\rangle = \\frac{1}{\\sqrt{2}} \\left( |0 \\rangle + | 1 \\rangle \\right) $\n",
    "and entangle all qubits with qubit 0 by applying a chain controlled-NOT gates."
   ]
  },
  {
   "cell_type": "code",
   "execution_count": null,
   "id": "54a9d560-2bbb-4398-879e-cec58820b386",
   "metadata": {},
   "outputs": [],
   "source": [
    "c.append(cirq.H(qubits[0]))\n",
    "c.append(cirq.CNOT(qubits[0], qubits[1]))\n",
    "c.append(cirq.CNOT(qubits[1], qubits[2]))\n",
    "c.append(cirq.CNOT(qubits[2], qubits[3]))\n",
    "c.append(cirq.CNOT(qubits[3], qubits[4]))"
   ]
  },
  {
   "cell_type": "markdown",
   "id": "dbf78d52-3be4-462b-a935-b8b08d64ebff",
   "metadata": {},
   "source": [
    "Cirq allows us to print our circuit:"
   ]
  },
  {
   "cell_type": "code",
   "execution_count": null,
   "id": "675455b0-f9c9-49fd-ad8c-4289b2f283f8",
   "metadata": {},
   "outputs": [],
   "source": [
    "print(c)"
   ]
  },
  {
   "cell_type": "markdown",
   "id": "302bd117-9ae0-4ac9-8b22-7c8a6de3dc45",
   "metadata": {},
   "source": [
    "Using Cirq's internal simulator we can easily simulate this small circuit and verify that the resulting quantum state is indeed a GHZ state."
   ]
  },
  {
   "cell_type": "code",
   "execution_count": null,
   "id": "c9b7b81f-7502-4982-a720-8ec8e9fed1a5",
   "metadata": {},
   "outputs": [],
   "source": [
    "s = cirq.Simulator()\n",
    "s.simulate(c)"
   ]
  },
  {
   "cell_type": "markdown",
   "id": "f570ecc9-255d-406d-b428-3155596b7fed",
   "metadata": {},
   "source": [
    "If we add a measurement to our circuit and sampling the (classical) outcome several times, we can also observe the effect of the entanglement:\n",
    "the system will be either in a state where all measured qubits are $0$ or all qubits are $1$. We never observe a situation in which only a few of the measured qubits in state $1$ and the remaining in state $0$."
   ]
  },
  {
   "cell_type": "code",
   "execution_count": null,
   "id": "1fb54e2d-6ccf-4fbb-82c7-8a86313bba40",
   "metadata": {},
   "outputs": [],
   "source": [
    "c.append(cirq.measure_each(*qubits))\n",
    "s.sample(c, repetitions=10)"
   ]
  },
  {
   "cell_type": "markdown",
   "id": "c02d14ee-85b2-4926-b84b-84fcadfa00d1",
   "metadata": {},
   "source": [
    "## Running a more complex circuit\n",
    "\n",
    "A common building block of many quantum algorithms is the Quantum Fourier Transform (QFT), which transforms the basis states of an N-qubit system an integer $|n\\rangle$ \n",
    "to a Fourier basis\n",
    "\n",
    "$$\n",
    "\\text{QFT}|n\\rangle = \\frac{1}{2^N} \\sum_{k=0}^{n-1} \\omega_{2^N}^{nk} |k\\rangle\n",
    "$$\n",
    "\n",
    "where $\\omega_{2^N} = e^{2 \\pi i / 2^N}$. This algorithm is already provided by Cirq and can be used directly in a circuit:"
   ]
  },
  {
   "cell_type": "code",
   "execution_count": null,
   "id": "37510659-1106-4210-a8df-a3e80aaed1ac",
   "metadata": {},
   "outputs": [],
   "source": [
    "c = cirq.Circuit()\n",
    "qubits = cirq.LineQubit.range(22)\n",
    "c.append(cirq.qft(*qubits))\n",
    "c.append(cirq.measure_each(*qubits))"
   ]
  },
  {
   "cell_type": "markdown",
   "id": "d78ecc51-6f75-48d3-94ed-421a2dbeee78",
   "metadata": {},
   "source": [
    "Simulating this circuit with Cirq's native simulator is a bit time consuming..."
   ]
  },
  {
   "cell_type": "code",
   "execution_count": null,
   "id": "d0815b62-fe16-4054-8ea1-49a500ecd6e4",
   "metadata": {},
   "outputs": [],
   "source": [
    "import time\n",
    "s = cirq.Simulator()\n",
    "start = time.time()\n",
    "r = s.sample(c, repetitions=20)\n",
    "print(r)\n",
    "print(\"runtime: {:.2f}s\".format(time.time() - start))"
   ]
  },
  {
   "cell_type": "markdown",
   "id": "4b1d02cb-6a00-4ae2-820b-9e5d6c3ae38e",
   "metadata": {},
   "source": [
    "## Running with qsim + cuQuantum\n",
    "\n",
    "The same circuit simulated with qsim on GPUs using NVIDIA cuQuantum library can accelerate this simulation substantially.\n",
    "\n",
    "We first need to setup the simulator with GPU support. The NVIDIA cuQuantum Appliance added a few options to QsimOptions:\n",
    "\n",
    "#### gpu_mode\n",
    "The GPU simulator backend to use. If 1, the simulator backend will use cuStateVec. If n, an integer greater than 1, the simulator will use the multi-GPU backend with the first n devices (if available). If a sequence of integers, the simulator will use the multi-GPU backend with devices whose ordinals match the values in the list. Default is to use the multi-GPU backend with device 0\n",
    "\n",
    "#### use_sampler\n",
    "If None, the multi-GPU backend will use its sampler, and all other backends will use their default sampler. If True, use the multi-GPU backend’s sampler. If False, the multi-GPU backend’s sampler is disabled\n",
    "\n",
    "#### disable_gpu\n",
    "Whether or not to disable the GPU simulator backend. All GPU options are only considered when this is False (default). Note the difference from qsimcirq’s use_gpu keyword.\n",
    "\n",
    "We setup the qsim simulator with one GPU:"
   ]
  },
  {
   "cell_type": "code",
   "execution_count": null,
   "id": "51002ebe-a517-4da9-9747-b0cc9977c03a",
   "metadata": {},
   "outputs": [],
   "source": [
    "ngpus = 1\n",
    "qsim_options = qsimcirq.QSimOptions(\n",
    "        max_fused_gate_size = 2\n",
    "        , cpu_threads = 1\n",
    "        , gpu_mode = ngpus\n",
    "        , use_sampler = True\n",
    "        , disable_gpu = False\n",
    "    )\n",
    "qsim_simulator = qsimcirq.QSimSimulator(qsim_options)"
   ]
  },
  {
   "cell_type": "markdown",
   "id": "8dc5f99d-9f4f-4c35-86f7-c3ef51d7ed1e",
   "metadata": {},
   "source": [
    "... and rerun the same circuit simulation on the GPU using the same syntax as before"
   ]
  },
  {
   "cell_type": "code",
   "execution_count": null,
   "id": "fc59565f-529b-4e24-816a-5303f9b5989e",
   "metadata": {},
   "outputs": [],
   "source": [
    "start = time.time()\n",
    "r = qsim_simulator.sample(c, repetitions=20)\n",
    "print(r)\n",
    "print(\"runtime: {:.2f}s\".format(time.time() - start))"
   ]
  },
  {
   "cell_type": "markdown",
   "id": "628c747b-084c-4fb6-843e-7c7f4cbf07a1",
   "metadata": {},
   "source": [
    "## Factoring Integers"
   ]
  },
  {
   "cell_type": "markdown",
   "id": "6d0627c4-95bd-47b9-9ab5-e8374d25508e",
   "metadata": {},
   "source": [
    "The most famous application of quantum computers is factoring integers using Shor's algorithm. It is of considerate interest because an efficient algorithm for factoring would allow to crack modern asymmetric encryption schemes, such as RSA.\n",
    "\n",
    "For small integers this quantum algorithm can be simulated on a classical computer."
   ]
  },
  {
   "cell_type": "markdown",
   "id": "0f979d1e-57a1-48ca-a7ae-efb3750c2b2f",
   "metadata": {},
   "source": [
    "Here we need a set of additional tools and helper functions, the actual algorithm will follow further down."
   ]
  },
  {
   "cell_type": "code",
   "execution_count": null,
   "id": "88619b35-624e-4853-8d2e-6d9952390e5e",
   "metadata": {
    "tags": []
   },
   "outputs": [],
   "source": [
    "from math import gcd, log2, ceil\n",
    "import numpy as np\n",
    "from random import randint\n",
    "from qiskit.algorithms import Shor\n",
    "import fractions\n",
    "import data.qiskit_to_cirq_conversion"
   ]
  },
  {
   "cell_type": "code",
   "execution_count": null,
   "id": "b78613b8",
   "metadata": {
    "tags": []
   },
   "outputs": [],
   "source": [
    "def get_num_bits(N):\n",
    "    return int(log2(N)+1)"
   ]
  },
  {
   "cell_type": "code",
   "execution_count": null,
   "id": "aeb7dcef",
   "metadata": {
    "tags": []
   },
   "outputs": [],
   "source": [
    "def get_histogram(result, width, shots):\n",
    "    if shots == 1:\n",
    "        return {result.tobytes(): 1}\n",
    "\n",
    "    # We rely on the PY37+ feature that the dict is ordered, and sort the\n",
    "    # measurement outcome (significant ones come first)\n",
    "    out = {}\n",
    "    axis = None if result.ndim == 1 else 0\n",
    "    keys, values = np.unique(result, axis=axis, return_counts=True)\n",
    "    idx = np.argsort(values)[::-1]\n",
    "    keys = keys[idx]\n",
    "    values = values[idx]\n",
    "    for i in range(keys.shape[0]):\n",
    "        # numpy arrays are not hashable\n",
    "        if result.ndim == 2:  # from qsimcirq\n",
    "            k = ''.join(str(keys[i])[1:-1].split())\n",
    "        else:\n",
    "            assert False\n",
    "        out[k] = values[i]\n",
    "\n",
    "    # sanity check\n",
    "    counts = 0\n",
    "    for k, v in out.items():\n",
    "        counts += v\n",
    "    assert counts == shots, f\"counts = {counts}, shots = {shots}\"\n",
    "\n",
    "    if shots/len(out) < 5.0:\n",
    "        print(f\"WARNING: too many ({len(out)}) unique bitstrings with limited shots ({shots}), \"\n",
    "              \"statistics may not be accurate\")\n",
    "\n",
    "    return out\n"
   ]
  },
  {
   "cell_type": "code",
   "execution_count": null,
   "id": "24b924d5",
   "metadata": {},
   "outputs": [],
   "source": [
    "def get_factors(r, r_nbits, x, N):\n",
    "    assert r_nbits > 0\n",
    "    assert x > 0\n",
    "    assert N > 0\n",
    "    eigenphase = float(r) / 2**r_nbits\n",
    "    f = fractions.Fraction.from_float(eigenphase).limit_denominator(N)    \n",
    "    # If the numerator is zero, the order finder failed.\n",
    "    if f.numerator == 0:\n",
    "        return None\n",
    "    \n",
    "    # Else, return the denominator if it is valid.\n",
    "    r = f.denominator\n",
    "    if x**r % N != 1:\n",
    "        return None\n",
    "    return r"
   ]
  },
  {
   "cell_type": "markdown",
   "id": "c8523c6f-d729-4d5e-8df9-1780c343a58e",
   "metadata": {},
   "source": [
    "### Shor's algorithm\n",
    "The integer factoring problem is finding the components $g$, $h$ of a given product $N=g \\cdot h$ of two primes.\n",
    "\n",
    "The algorithm consists of two ideas.\n",
    "\n",
    "##### 1. Reduce the problem of factoring the integer to the order-finding problem (classically):\n",
    "Given an integer $a$ find the period $x=r$ of $a^x (\\text{mod} N)$, <br>\n",
    "i.e., the smallest positive integer $r$ that satisfies $a^r = 1 (\\text{mod} N)$."
   ]
  },
  {
   "cell_type": "code",
   "execution_count": null,
   "id": "7dd05729",
   "metadata": {},
   "outputs": [],
   "source": [
    "def shors_algorithm(N):\n",
    "    while(True):\n",
    "        # 1. Select a random integer between 2 and N-1\n",
    "        a = randint(2,N-1)\n",
    "        \n",
    "        # 2. See if it happens to factor N\n",
    "        print(\"Trying a =\", a)\n",
    "        g = gcd(a,N)\n",
    "        if g != 1:\n",
    "            print(\"Found factor by chance:\", g)\n",
    "            return (g, N//g)\n",
    "        \n",
    "        # 3. Find the period a^r = 1 (mod N)\n",
    "        r = find_period(a, N)\n",
    "        \n",
    "        # 4. If a period is found and it is\n",
    "        # * even and\n",
    "        # * not a^(r/2) = -1 (mod N),\n",
    "        # the factors will be the gcd(a^(r/2) + 1, N), gcd(a^(r/2 - 1, N).\n",
    "        if r != None and r % 2 != 1 and (r//2) % N != N-1:\n",
    "            a1 = gcd(a ** (r//2) + 1, N)\n",
    "            print(\"Found factor:\", a1)\n",
    "            return (a1, N//a1)\n",
    "        print(\"retrying...\")"
   ]
  },
  {
   "cell_type": "markdown",
   "id": "a43af433-905c-4070-94b3-0f6be6f67f6b",
   "metadata": {},
   "source": [
    "##### 2. Solve the order-finding problem with a quantum algorithm.\n",
    "\n",
    "The key component of the algorithm is an efficient quantum algorithm to find the period $r$ of the operation $x^r (\\text{mod} N)$. A naive classical algorithm for this problem is easy to implement, but inefficient:"
   ]
  },
  {
   "cell_type": "code",
   "execution_count": null,
   "id": "1ee5d6fb-a682-416d-a355-3040b1592ff1",
   "metadata": {},
   "outputs": [],
   "source": [
    "def find_period(a, N):\n",
    "    return find_period_classical(a, N)"
   ]
  },
  {
   "cell_type": "code",
   "execution_count": null,
   "id": "14f4b0d8",
   "metadata": {},
   "outputs": [],
   "source": [
    "def find_period_classical(a, N):\n",
    "    \"\"\"A naive classical method to find the period r of x^r (mod N).\"\"\"\n",
    "    assert 1 < a and a < N\n",
    "    r = 1\n",
    "    y = a\n",
    "    while y != 1:\n",
    "        y = y * a % N\n",
    "        r += 1\n",
    "    return r"
   ]
  },
  {
   "cell_type": "code",
   "execution_count": null,
   "id": "3f75b314-9f0c-40c5-a7bc-58ae235fc183",
   "metadata": {},
   "outputs": [],
   "source": [
    "my_integer = 3*5\n",
    "shors_algorithm(my_integer)"
   ]
  },
  {
   "cell_type": "markdown",
   "id": "275efced-b10e-4438-9b5e-f3534079304b",
   "metadata": {},
   "source": [
    "An efficient quantum solution derives the period from a measurement of $n = \\lceil log2(N) \\rceil$ qubits:"
   ]
  },
  {
   "cell_type": "code",
   "execution_count": null,
   "id": "44562581-07a8-478f-a562-8fa4ee5c4291",
   "metadata": {},
   "outputs": [],
   "source": [
    "def find_period(a, N):\n",
    "    return find_period_quantum(a, N)"
   ]
  },
  {
   "cell_type": "code",
   "execution_count": null,
   "id": "7ad0abcf",
   "metadata": {},
   "outputs": [],
   "source": [
    "def find_period_quantum(x, N):\n",
    "    \"\"\"The quantum algorithm to find the period r of x^r (mod N).\"\"\"\n",
    "    \n",
    "    shots   = 128\n",
    "    nbits   = get_num_bits(N)\n",
    "    \n",
    "    qiskit_circuit              = Shor().construct_circuit(N, x)\n",
    "    cirq_circuit, qubit_offsets = data.qiskit_to_cirq_conversion.convert(qiskit_circuit)\n",
    "    print(\"Total number of qubits:\", qubit_offsets['total'])\n",
    "    cirq_circuit.append(cirq.measure_each(*cirq.LineQubit.range(qubit_offsets['up'], qubit_offsets['down'])))\n",
    "\n",
    "    result = qsim_simulator.sample(cirq_circuit,repetitions=shots)\n",
    "    measurement_results = result.to_numpy()\n",
    "    print(\"Measurement results:\")\n",
    "    print(measurement_results)\n",
    "    hist = get_histogram(measurement_results, qubit_offsets['down'], shots)\n",
    "    print(\"Number of occurences:\", hist)\n",
    "    most_probable_bitpattern = max(hist, key=hist.get)\n",
    "    result = int(most_probable_bitpattern[::-1],2)\n",
    "    print(\"Most probable bitpattern:\", most_probable_bitpattern, \"=\", result)\n",
    "    r = get_factors(result, qubit_offsets['down'], x, N)\n",
    "    print(\"Found period:\", r)\n",
    "    return r"
   ]
  },
  {
   "cell_type": "code",
   "execution_count": null,
   "id": "79927898",
   "metadata": {},
   "outputs": [],
   "source": [
    "my_integer = 3*5\n",
    "shors_algorithm(my_integer)"
   ]
  },
  {
   "cell_type": "markdown",
   "id": "8fa78624-d62b-4bed-9aa5-5e461e8d4ad9",
   "metadata": {},
   "source": [
    "# References\n",
    "\n",
    "* P. Shor, 1997 , \"Polynomial-time algorithms for prime factorization and discrete logarithms on a quantum computer\", SIAM J. Comp., 26, pp. 1484-150\n",
    "* S. Beauregard, 2003, \"Circuit for Shor's algorithm using 2n+3 qubits.\", Quantum Info. Comput. 3, 2 (March 2003), 175–185."
   ]
  }
 ],
 "metadata": {
  "kernelspec": {
   "display_name": "Python 3 (ipykernel)",
   "language": "python",
   "name": "python3"
  },
  "language_info": {
   "codemirror_mode": {
    "name": "ipython",
    "version": 3
   },
   "file_extension": ".py",
   "mimetype": "text/x-python",
   "name": "python",
   "nbconvert_exporter": "python",
   "pygments_lexer": "ipython3",
   "version": "3.8.13"
  }
 },
 "nbformat": 4,
 "nbformat_minor": 5
}
